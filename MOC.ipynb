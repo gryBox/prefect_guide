{
 "cells": [
  {
   "cell_type": "code",
   "execution_count": 1,
   "metadata": {},
   "outputs": [],
   "source": [
    "%load_ext autoreload"
   ]
  },
  {
   "cell_type": "code",
   "execution_count": 2,
   "metadata": {},
   "outputs": [],
   "source": [
    "%autoreload 2"
   ]
  },
  {
   "cell_type": "markdown",
   "metadata": {},
   "source": [
    "# An example of a Low Liquidity Trade"
   ]
  },
  {
   "cell_type": "code",
   "execution_count": 48,
   "metadata": {},
   "outputs": [],
   "source": [
    "import requests\n",
    "import s3fs\n",
    "import pandas as pd\n",
    "import re\n",
    "import humps\n",
    "import sqlalchemy\n",
    "from datetime import timedelta, datetime\n",
    "import pendulum\n",
    "\n",
    "import yfinance as yf\n",
    "\n",
    "from prefect import Client, Task, Flow, task, Parameter\n",
    "from prefect.schedules import IntervalSchedule\n",
    "from prefect.environments.storage import Docker\n",
    "\n",
    "# Homemade\n",
    "from extractMOCData import CONFIG as cfg\n",
    "from extractMOCData.moc_data import TsxMocData\n",
    "\n",
    "from normalize.ticker_symbols import TsxToYhoo\n",
    "from addFeatures.daily import DailyData \n",
    "\n",
    "from mocIO.read_moc import get_moc_file_lst\n",
    "#from extractMOCData import read_moc \n",
    "\n",
    "import etl_moc"
   ]
  },
  {
   "cell_type": "code",
   "execution_count": 4,
   "metadata": {},
   "outputs": [],
   "source": [
    "# tsxMocData = TsxMocData()\n",
    "\n",
    "# moc_df = tsxMocData.scrape_moc_data()"
   ]
  },
  {
   "cell_type": "markdown",
   "metadata": {},
   "source": [
    "## Load Raw Data"
   ]
  },
  {
   "cell_type": "code",
   "execution_count": 5,
   "metadata": {},
   "outputs": [],
   "source": [
    "moc_file_lst = get_moc_file_lst.run(\"tsx-moc\")"
   ]
  },
  {
   "cell_type": "code",
   "execution_count": 6,
   "metadata": {},
   "outputs": [
    {
     "data": {
      "text/plain": [
       "'s3://tsx-moc/moc_tsx_20200409.csv'"
      ]
     },
     "execution_count": 6,
     "metadata": {},
     "output_type": "execute_result"
    }
   ],
   "source": [
    "data_flpth = f\"s3://{moc_file_lst[-1]}\"\n",
    "data_flpth"
   ]
  },
  {
   "cell_type": "code",
   "execution_count": 7,
   "metadata": {},
   "outputs": [],
   "source": [
    "moc_df = pd.read_csv(data_flpth, parse_dates=[\"moc_date\"], na_filter=False)\n",
    "moc_df[\"Symbol\"].fillna(\"NA\", inplace=True)"
   ]
  },
  {
   "cell_type": "code",
   "execution_count": 8,
   "metadata": {},
   "outputs": [
    {
     "data": {
      "text/html": [
       "<div>\n",
       "<style scoped>\n",
       "    .dataframe tbody tr th:only-of-type {\n",
       "        vertical-align: middle;\n",
       "    }\n",
       "\n",
       "    .dataframe tbody tr th {\n",
       "        vertical-align: top;\n",
       "    }\n",
       "\n",
       "    .dataframe thead th {\n",
       "        text-align: right;\n",
       "    }\n",
       "</style>\n",
       "<table border=\"1\" class=\"dataframe\">\n",
       "  <thead>\n",
       "    <tr style=\"text-align: right;\">\n",
       "      <th></th>\n",
       "      <th>Symbol</th>\n",
       "      <th>Imbalance Side</th>\n",
       "      <th>Imbalance Size</th>\n",
       "      <th>Imbalance Reference Price</th>\n",
       "      <th>moc_date</th>\n",
       "    </tr>\n",
       "  </thead>\n",
       "  <tbody>\n",
       "  </tbody>\n",
       "</table>\n",
       "</div>"
      ],
      "text/plain": [
       "Empty DataFrame\n",
       "Columns: [Symbol, Imbalance Side, Imbalance Size, Imbalance Reference Price, moc_date]\n",
       "Index: []"
      ]
     },
     "execution_count": 8,
     "metadata": {},
     "output_type": "execute_result"
    }
   ],
   "source": [
    "moc_df[moc_df[\"Symbol\"].isna()==True]"
   ]
  },
  {
   "cell_type": "markdown",
   "metadata": {},
   "source": [
    "## Create a key table\n",
    "Map TSX symbols to Yahoo Symbols"
   ]
  },
  {
   "cell_type": "code",
   "execution_count": 9,
   "metadata": {},
   "outputs": [
    {
     "data": {
      "text/html": [
       "<div>\n",
       "<style scoped>\n",
       "    .dataframe tbody tr th:only-of-type {\n",
       "        vertical-align: middle;\n",
       "    }\n",
       "\n",
       "    .dataframe tbody tr th {\n",
       "        vertical-align: top;\n",
       "    }\n",
       "\n",
       "    .dataframe thead th {\n",
       "        text-align: right;\n",
       "    }\n",
       "</style>\n",
       "<table border=\"1\" class=\"dataframe\">\n",
       "  <thead>\n",
       "    <tr style=\"text-align: right;\">\n",
       "      <th></th>\n",
       "      <th>Symbol</th>\n",
       "      <th>Imbalance Side</th>\n",
       "      <th>Imbalance Size</th>\n",
       "      <th>Imbalance Reference Price</th>\n",
       "      <th>moc_date</th>\n",
       "      <th>yahoo_symbol</th>\n",
       "    </tr>\n",
       "  </thead>\n",
       "  <tbody>\n",
       "    <tr>\n",
       "      <th>0</th>\n",
       "      <td>ABX</td>\n",
       "      <td>BUY</td>\n",
       "      <td>133560</td>\n",
       "      <td>31.210</td>\n",
       "      <td>2020-04-09</td>\n",
       "      <td>ABX.TO</td>\n",
       "    </tr>\n",
       "    <tr>\n",
       "      <th>1</th>\n",
       "      <td>ACO.X</td>\n",
       "      <td>BUY</td>\n",
       "      <td>5257</td>\n",
       "      <td>39.680</td>\n",
       "      <td>2020-04-09</td>\n",
       "      <td>ACO-X.TO</td>\n",
       "    </tr>\n",
       "    <tr>\n",
       "      <th>2</th>\n",
       "      <td>ADW.A</td>\n",
       "      <td>BUY</td>\n",
       "      <td>200</td>\n",
       "      <td>8.435</td>\n",
       "      <td>2020-04-09</td>\n",
       "      <td>ADW-A.TO</td>\n",
       "    </tr>\n",
       "    <tr>\n",
       "      <th>3</th>\n",
       "      <td>AEM</td>\n",
       "      <td>BUY</td>\n",
       "      <td>2033</td>\n",
       "      <td>68.045</td>\n",
       "      <td>2020-04-09</td>\n",
       "      <td>AEM.TO</td>\n",
       "    </tr>\n",
       "    <tr>\n",
       "      <th>4</th>\n",
       "      <td>AGI</td>\n",
       "      <td>BUY</td>\n",
       "      <td>67360</td>\n",
       "      <td>8.725</td>\n",
       "      <td>2020-04-09</td>\n",
       "      <td>AGI.TO</td>\n",
       "    </tr>\n",
       "    <tr>\n",
       "      <th>...</th>\n",
       "      <td>...</td>\n",
       "      <td>...</td>\n",
       "      <td>...</td>\n",
       "      <td>...</td>\n",
       "      <td>...</td>\n",
       "      <td>...</td>\n",
       "    </tr>\n",
       "    <tr>\n",
       "      <th>367</th>\n",
       "      <td>WPK</td>\n",
       "      <td>SELL</td>\n",
       "      <td>98</td>\n",
       "      <td>42.970</td>\n",
       "      <td>2020-04-09</td>\n",
       "      <td>WPK.TO</td>\n",
       "    </tr>\n",
       "    <tr>\n",
       "      <th>368</th>\n",
       "      <td>WPRT</td>\n",
       "      <td>SELL</td>\n",
       "      <td>14415</td>\n",
       "      <td>1.160</td>\n",
       "      <td>2020-04-09</td>\n",
       "      <td>WPRT.TO</td>\n",
       "    </tr>\n",
       "    <tr>\n",
       "      <th>369</th>\n",
       "      <td>WSP</td>\n",
       "      <td>SELL</td>\n",
       "      <td>7726</td>\n",
       "      <td>84.295</td>\n",
       "      <td>2020-04-09</td>\n",
       "      <td>WSP.TO</td>\n",
       "    </tr>\n",
       "    <tr>\n",
       "      <th>370</th>\n",
       "      <td>WTE</td>\n",
       "      <td>SELL</td>\n",
       "      <td>4170</td>\n",
       "      <td>14.580</td>\n",
       "      <td>2020-04-09</td>\n",
       "      <td>WTE.TO</td>\n",
       "    </tr>\n",
       "    <tr>\n",
       "      <th>371</th>\n",
       "      <td>X</td>\n",
       "      <td>SELL</td>\n",
       "      <td>1579</td>\n",
       "      <td>114.040</td>\n",
       "      <td>2020-04-09</td>\n",
       "      <td>X.TO</td>\n",
       "    </tr>\n",
       "  </tbody>\n",
       "</table>\n",
       "<p>372 rows × 6 columns</p>\n",
       "</div>"
      ],
      "text/plain": [
       "    Symbol Imbalance Side  Imbalance Size  Imbalance Reference Price  \\\n",
       "0      ABX            BUY          133560                     31.210   \n",
       "1    ACO.X            BUY            5257                     39.680   \n",
       "2    ADW.A            BUY             200                      8.435   \n",
       "3      AEM            BUY            2033                     68.045   \n",
       "4      AGI            BUY           67360                      8.725   \n",
       "..     ...            ...             ...                        ...   \n",
       "367    WPK           SELL              98                     42.970   \n",
       "368   WPRT           SELL           14415                      1.160   \n",
       "369    WSP           SELL            7726                     84.295   \n",
       "370    WTE           SELL            4170                     14.580   \n",
       "371      X           SELL            1579                    114.040   \n",
       "\n",
       "      moc_date yahoo_symbol  \n",
       "0   2020-04-09       ABX.TO  \n",
       "1   2020-04-09     ACO-X.TO  \n",
       "2   2020-04-09     ADW-A.TO  \n",
       "3   2020-04-09       AEM.TO  \n",
       "4   2020-04-09       AGI.TO  \n",
       "..         ...          ...  \n",
       "367 2020-04-09       WPK.TO  \n",
       "368 2020-04-09      WPRT.TO  \n",
       "369 2020-04-09       WSP.TO  \n",
       "370 2020-04-09       WTE.TO  \n",
       "371 2020-04-09         X.TO  \n",
       "\n",
       "[372 rows x 6 columns]"
      ]
     },
     "execution_count": 9,
     "metadata": {},
     "output_type": "execute_result"
    }
   ],
   "source": [
    "yhooMap =  TsxToYhoo()\n",
    "moc_key_df = yhooMap.run(moc_df)\n",
    "moc_key_df"
   ]
  },
  {
   "cell_type": "markdown",
   "metadata": {},
   "source": [
    "## Add daily features\n",
    "(from yahoo)"
   ]
  },
  {
   "cell_type": "code",
   "execution_count": 10,
   "metadata": {},
   "outputs": [],
   "source": [
    "# Get EOD features\n",
    "eod_df = etl_moc.get_eod_features.run(moc_key_df.head(6))"
   ]
  },
  {
   "cell_type": "markdown",
   "metadata": {},
   "source": [
    "## Add indtraday features\n",
    "(from yahoo)"
   ]
  },
  {
   "cell_type": "code",
   "execution_count": 46,
   "metadata": {},
   "outputs": [
    {
     "name": "stdout",
     "output_type": "stream",
     "text": [
      "[*********************100%***********************]  6 of 6 completed\n"
     ]
    }
   ],
   "source": [
    "intraday_df = etl_moc.get_1min_ohlc.run(moc_key_df.head(6))"
   ]
  },
  {
   "cell_type": "code",
   "execution_count": null,
   "metadata": {},
   "outputs": [],
   "source": []
  },
  {
   "cell_type": "code",
   "execution_count": 47,
   "metadata": {},
   "outputs": [
    {
     "data": {
      "text/html": [
       "<div>\n",
       "<style scoped>\n",
       "    .dataframe tbody tr th:only-of-type {\n",
       "        vertical-align: middle;\n",
       "    }\n",
       "\n",
       "    .dataframe tbody tr th {\n",
       "        vertical-align: top;\n",
       "    }\n",
       "\n",
       "    .dataframe thead th {\n",
       "        text-align: right;\n",
       "    }\n",
       "</style>\n",
       "<table border=\"1\" class=\"dataframe\">\n",
       "  <thead>\n",
       "    <tr style=\"text-align: right;\">\n",
       "      <th></th>\n",
       "      <th></th>\n",
       "      <th>adj_close</th>\n",
       "      <th>close</th>\n",
       "      <th>high</th>\n",
       "      <th>low</th>\n",
       "      <th>open</th>\n",
       "      <th>volume</th>\n",
       "    </tr>\n",
       "    <tr>\n",
       "      <th>moc_date</th>\n",
       "      <th>yahoo_symbol</th>\n",
       "      <th></th>\n",
       "      <th></th>\n",
       "      <th></th>\n",
       "      <th></th>\n",
       "      <th></th>\n",
       "      <th></th>\n",
       "    </tr>\n",
       "  </thead>\n",
       "  <tbody>\n",
       "    <tr>\n",
       "      <th rowspan=\"5\" valign=\"top\">2020-04-09 09:30:00-04:00</th>\n",
       "      <th>ABX.TO</th>\n",
       "      <td>29.06</td>\n",
       "      <td>29.06</td>\n",
       "      <td>29.33</td>\n",
       "      <td>28.90</td>\n",
       "      <td>29.33</td>\n",
       "      <td>0.0</td>\n",
       "    </tr>\n",
       "    <tr>\n",
       "      <th>ACO-X.TO</th>\n",
       "      <td>39.46</td>\n",
       "      <td>39.46</td>\n",
       "      <td>39.70</td>\n",
       "      <td>39.46</td>\n",
       "      <td>39.70</td>\n",
       "      <td>0.0</td>\n",
       "    </tr>\n",
       "    <tr>\n",
       "      <th>ADW-A.TO</th>\n",
       "      <td>NaN</td>\n",
       "      <td>NaN</td>\n",
       "      <td>NaN</td>\n",
       "      <td>NaN</td>\n",
       "      <td>NaN</td>\n",
       "      <td>NaN</td>\n",
       "    </tr>\n",
       "    <tr>\n",
       "      <th>AEM.TO</th>\n",
       "      <td>65.81</td>\n",
       "      <td>65.81</td>\n",
       "      <td>66.36</td>\n",
       "      <td>65.41</td>\n",
       "      <td>65.80</td>\n",
       "      <td>0.0</td>\n",
       "    </tr>\n",
       "    <tr>\n",
       "      <th>AGI.TO</th>\n",
       "      <td>8.71</td>\n",
       "      <td>8.71</td>\n",
       "      <td>8.71</td>\n",
       "      <td>8.54</td>\n",
       "      <td>8.54</td>\n",
       "      <td>0.0</td>\n",
       "    </tr>\n",
       "    <tr>\n",
       "      <th>...</th>\n",
       "      <th>...</th>\n",
       "      <td>...</td>\n",
       "      <td>...</td>\n",
       "      <td>...</td>\n",
       "      <td>...</td>\n",
       "      <td>...</td>\n",
       "      <td>...</td>\n",
       "    </tr>\n",
       "    <tr>\n",
       "      <th rowspan=\"5\" valign=\"top\">2020-04-09 15:59:00-04:00</th>\n",
       "      <th>ACO-X.TO</th>\n",
       "      <td>39.75</td>\n",
       "      <td>39.75</td>\n",
       "      <td>39.75</td>\n",
       "      <td>39.68</td>\n",
       "      <td>39.68</td>\n",
       "      <td>4127.0</td>\n",
       "    </tr>\n",
       "    <tr>\n",
       "      <th>ADW-A.TO</th>\n",
       "      <td>8.44</td>\n",
       "      <td>8.44</td>\n",
       "      <td>8.44</td>\n",
       "      <td>8.44</td>\n",
       "      <td>8.44</td>\n",
       "      <td>400.0</td>\n",
       "    </tr>\n",
       "    <tr>\n",
       "      <th>AEM.TO</th>\n",
       "      <td>68.60</td>\n",
       "      <td>68.60</td>\n",
       "      <td>68.71</td>\n",
       "      <td>68.49</td>\n",
       "      <td>68.66</td>\n",
       "      <td>15611.0</td>\n",
       "    </tr>\n",
       "    <tr>\n",
       "      <th>AGI.TO</th>\n",
       "      <td>8.84</td>\n",
       "      <td>8.84</td>\n",
       "      <td>8.89</td>\n",
       "      <td>8.84</td>\n",
       "      <td>8.85</td>\n",
       "      <td>23741.0</td>\n",
       "    </tr>\n",
       "    <tr>\n",
       "      <th>AIF.TO</th>\n",
       "      <td>41.89</td>\n",
       "      <td>41.89</td>\n",
       "      <td>42.05</td>\n",
       "      <td>41.89</td>\n",
       "      <td>42.05</td>\n",
       "      <td>2390.0</td>\n",
       "    </tr>\n",
       "  </tbody>\n",
       "</table>\n",
       "<p>2340 rows × 6 columns</p>\n",
       "</div>"
      ],
      "text/plain": [
       "                                        adj_close  close   high    low   open  \\\n",
       "moc_date                  yahoo_symbol                                          \n",
       "2020-04-09 09:30:00-04:00 ABX.TO            29.06  29.06  29.33  28.90  29.33   \n",
       "                          ACO-X.TO          39.46  39.46  39.70  39.46  39.70   \n",
       "                          ADW-A.TO            NaN    NaN    NaN    NaN    NaN   \n",
       "                          AEM.TO            65.81  65.81  66.36  65.41  65.80   \n",
       "                          AGI.TO             8.71   8.71   8.71   8.54   8.54   \n",
       "...                                           ...    ...    ...    ...    ...   \n",
       "2020-04-09 15:59:00-04:00 ACO-X.TO          39.75  39.75  39.75  39.68  39.68   \n",
       "                          ADW-A.TO           8.44   8.44   8.44   8.44   8.44   \n",
       "                          AEM.TO            68.60  68.60  68.71  68.49  68.66   \n",
       "                          AGI.TO             8.84   8.84   8.89   8.84   8.85   \n",
       "                          AIF.TO            41.89  41.89  42.05  41.89  42.05   \n",
       "\n",
       "                                         volume  \n",
       "moc_date                  yahoo_symbol           \n",
       "2020-04-09 09:30:00-04:00 ABX.TO            0.0  \n",
       "                          ACO-X.TO          0.0  \n",
       "                          ADW-A.TO          NaN  \n",
       "                          AEM.TO            0.0  \n",
       "                          AGI.TO            0.0  \n",
       "...                                         ...  \n",
       "2020-04-09 15:59:00-04:00 ACO-X.TO       4127.0  \n",
       "                          ADW-A.TO        400.0  \n",
       "                          AEM.TO        15611.0  \n",
       "                          AGI.TO        23741.0  \n",
       "                          AIF.TO         2390.0  \n",
       "\n",
       "[2340 rows x 6 columns]"
      ]
     },
     "execution_count": 47,
     "metadata": {},
     "output_type": "execute_result"
    }
   ],
   "source": [
    "intraday_df"
   ]
  },
  {
   "cell_type": "code",
   "execution_count": 39,
   "metadata": {},
   "outputs": [
    {
     "data": {
      "text/html": [
       "<div>\n",
       "<style scoped>\n",
       "    .dataframe tbody tr th:only-of-type {\n",
       "        vertical-align: middle;\n",
       "    }\n",
       "\n",
       "    .dataframe tbody tr th {\n",
       "        vertical-align: top;\n",
       "    }\n",
       "\n",
       "    .dataframe thead th {\n",
       "        text-align: right;\n",
       "    }\n",
       "</style>\n",
       "<table border=\"1\" class=\"dataframe\">\n",
       "  <thead>\n",
       "    <tr style=\"text-align: right;\">\n",
       "      <th></th>\n",
       "      <th>Datetime</th>\n",
       "      <th>yahoo_symbol</th>\n",
       "      <th>Adj Close</th>\n",
       "      <th>Close</th>\n",
       "      <th>High</th>\n",
       "      <th>Low</th>\n",
       "      <th>Open</th>\n",
       "      <th>Volume</th>\n",
       "    </tr>\n",
       "  </thead>\n",
       "  <tbody>\n",
       "    <tr>\n",
       "      <th>0</th>\n",
       "      <td>2020-04-09 09:30:00-04:00</td>\n",
       "      <td>ABX.TO</td>\n",
       "      <td>29.06</td>\n",
       "      <td>29.06</td>\n",
       "      <td>29.33</td>\n",
       "      <td>28.90</td>\n",
       "      <td>29.33</td>\n",
       "      <td>0.0</td>\n",
       "    </tr>\n",
       "    <tr>\n",
       "      <th>1</th>\n",
       "      <td>2020-04-09 09:30:00-04:00</td>\n",
       "      <td>ACO-X.TO</td>\n",
       "      <td>39.46</td>\n",
       "      <td>39.46</td>\n",
       "      <td>39.70</td>\n",
       "      <td>39.46</td>\n",
       "      <td>39.70</td>\n",
       "      <td>0.0</td>\n",
       "    </tr>\n",
       "    <tr>\n",
       "      <th>2</th>\n",
       "      <td>2020-04-09 09:30:00-04:00</td>\n",
       "      <td>ADW-A.TO</td>\n",
       "      <td>NaN</td>\n",
       "      <td>NaN</td>\n",
       "      <td>NaN</td>\n",
       "      <td>NaN</td>\n",
       "      <td>NaN</td>\n",
       "      <td>NaN</td>\n",
       "    </tr>\n",
       "    <tr>\n",
       "      <th>3</th>\n",
       "      <td>2020-04-09 09:30:00-04:00</td>\n",
       "      <td>AEM.TO</td>\n",
       "      <td>65.81</td>\n",
       "      <td>65.81</td>\n",
       "      <td>66.36</td>\n",
       "      <td>65.41</td>\n",
       "      <td>65.80</td>\n",
       "      <td>0.0</td>\n",
       "    </tr>\n",
       "    <tr>\n",
       "      <th>4</th>\n",
       "      <td>2020-04-09 09:30:00-04:00</td>\n",
       "      <td>AGI.TO</td>\n",
       "      <td>8.71</td>\n",
       "      <td>8.71</td>\n",
       "      <td>8.71</td>\n",
       "      <td>8.54</td>\n",
       "      <td>8.54</td>\n",
       "      <td>0.0</td>\n",
       "    </tr>\n",
       "    <tr>\n",
       "      <th>...</th>\n",
       "      <td>...</td>\n",
       "      <td>...</td>\n",
       "      <td>...</td>\n",
       "      <td>...</td>\n",
       "      <td>...</td>\n",
       "      <td>...</td>\n",
       "      <td>...</td>\n",
       "      <td>...</td>\n",
       "    </tr>\n",
       "    <tr>\n",
       "      <th>2335</th>\n",
       "      <td>2020-04-09 15:59:00-04:00</td>\n",
       "      <td>ACO-X.TO</td>\n",
       "      <td>39.75</td>\n",
       "      <td>39.75</td>\n",
       "      <td>39.75</td>\n",
       "      <td>39.68</td>\n",
       "      <td>39.68</td>\n",
       "      <td>4127.0</td>\n",
       "    </tr>\n",
       "    <tr>\n",
       "      <th>2336</th>\n",
       "      <td>2020-04-09 15:59:00-04:00</td>\n",
       "      <td>ADW-A.TO</td>\n",
       "      <td>8.44</td>\n",
       "      <td>8.44</td>\n",
       "      <td>8.44</td>\n",
       "      <td>8.44</td>\n",
       "      <td>8.44</td>\n",
       "      <td>400.0</td>\n",
       "    </tr>\n",
       "    <tr>\n",
       "      <th>2337</th>\n",
       "      <td>2020-04-09 15:59:00-04:00</td>\n",
       "      <td>AEM.TO</td>\n",
       "      <td>68.60</td>\n",
       "      <td>68.60</td>\n",
       "      <td>68.71</td>\n",
       "      <td>68.49</td>\n",
       "      <td>68.66</td>\n",
       "      <td>15611.0</td>\n",
       "    </tr>\n",
       "    <tr>\n",
       "      <th>2338</th>\n",
       "      <td>2020-04-09 15:59:00-04:00</td>\n",
       "      <td>AGI.TO</td>\n",
       "      <td>8.84</td>\n",
       "      <td>8.84</td>\n",
       "      <td>8.89</td>\n",
       "      <td>8.84</td>\n",
       "      <td>8.85</td>\n",
       "      <td>23741.0</td>\n",
       "    </tr>\n",
       "    <tr>\n",
       "      <th>2339</th>\n",
       "      <td>2020-04-09 15:59:00-04:00</td>\n",
       "      <td>AIF.TO</td>\n",
       "      <td>41.89</td>\n",
       "      <td>41.89</td>\n",
       "      <td>42.05</td>\n",
       "      <td>41.89</td>\n",
       "      <td>42.05</td>\n",
       "      <td>2390.0</td>\n",
       "    </tr>\n",
       "  </tbody>\n",
       "</table>\n",
       "<p>2340 rows × 8 columns</p>\n",
       "</div>"
      ],
      "text/plain": [
       "                      Datetime yahoo_symbol  Adj Close  Close   High    Low  \\\n",
       "0    2020-04-09 09:30:00-04:00       ABX.TO      29.06  29.06  29.33  28.90   \n",
       "1    2020-04-09 09:30:00-04:00     ACO-X.TO      39.46  39.46  39.70  39.46   \n",
       "2    2020-04-09 09:30:00-04:00     ADW-A.TO        NaN    NaN    NaN    NaN   \n",
       "3    2020-04-09 09:30:00-04:00       AEM.TO      65.81  65.81  66.36  65.41   \n",
       "4    2020-04-09 09:30:00-04:00       AGI.TO       8.71   8.71   8.71   8.54   \n",
       "...                        ...          ...        ...    ...    ...    ...   \n",
       "2335 2020-04-09 15:59:00-04:00     ACO-X.TO      39.75  39.75  39.75  39.68   \n",
       "2336 2020-04-09 15:59:00-04:00     ADW-A.TO       8.44   8.44   8.44   8.44   \n",
       "2337 2020-04-09 15:59:00-04:00       AEM.TO      68.60  68.60  68.71  68.49   \n",
       "2338 2020-04-09 15:59:00-04:00       AGI.TO       8.84   8.84   8.89   8.84   \n",
       "2339 2020-04-09 15:59:00-04:00       AIF.TO      41.89  41.89  42.05  41.89   \n",
       "\n",
       "       Open   Volume  \n",
       "0     29.33      0.0  \n",
       "1     39.70      0.0  \n",
       "2       NaN      NaN  \n",
       "3     65.80      0.0  \n",
       "4      8.54      0.0  \n",
       "...     ...      ...  \n",
       "2335  39.68   4127.0  \n",
       "2336   8.44    400.0  \n",
       "2337  68.66  15611.0  \n",
       "2338   8.85  23741.0  \n",
       "2339  42.05   2390.0  \n",
       "\n",
       "[2340 rows x 8 columns]"
      ]
     },
     "execution_count": 39,
     "metadata": {},
     "output_type": "execute_result"
    }
   ],
   "source": [
    "df = df.stack(dropna=False).reset_index().rename(columns={'level_1':'yahoo_symbol'})\n",
    "df "
   ]
  },
  {
   "cell_type": "code",
   "execution_count": 20,
   "metadata": {},
   "outputs": [
    {
     "name": "stdout",
     "output_type": "stream",
     "text": [
      "[*********************100%***********************]  6 of 6 completed\n"
     ]
    }
   ],
   "source": [
    "df = yf.download(\n",
    "        moc_key_df.head(6)[\"yahoo_symbol\"].tolist(), \n",
    "        start=\"2020-04-09\", \n",
    "        end=\"2020-04-10\",\n",
    "        interval='1m'\n",
    ")"
   ]
  },
  {
   "cell_type": "markdown",
   "metadata": {},
   "source": [
    "## Prepare for dfs For db"
   ]
  },
  {
   "cell_type": "code",
   "execution_count": 12,
   "metadata": {},
   "outputs": [
    {
     "data": {
      "text/plain": [
       "Index(['symbol', 'imbalance_side', 'imbalance_size',\n",
       "       'imbalance_reference_price', 'moc_date', 'yahoo_symbol', 'date', 'open',\n",
       "       'high', 'low',\n",
       "       ...\n",
       "       'peg_ratio', 'last_cap_gain', 'short_percent_of_float',\n",
       "       'shares_short_prior_month', 'category', 'five_year_average_return',\n",
       "       'regular_market_price', 'logo_url', 'full_time_employees', 'fax'],\n",
       "      dtype='object', length=137)"
      ]
     },
     "execution_count": 12,
     "metadata": {},
     "output_type": "execute_result"
    }
   ],
   "source": [
    "eod_df.columns"
   ]
  },
  {
   "cell_type": "code",
   "execution_count": null,
   "metadata": {},
   "outputs": [],
   "source": [
    "# Set db indices\n",
    "eod_df = eod_df.set_index([\"moc_date\", \"symbol\"], verify_integrity=True)"
   ]
  },
  {
   "cell_type": "code",
   "execution_count": null,
   "metadata": {},
   "outputs": [],
   "source": [
    "mormalize_col_names(\"Imbalance Size\")"
   ]
  },
  {
   "cell_type": "code",
   "execution_count": null,
   "metadata": {},
   "outputs": [],
   "source": [
    "import humps"
   ]
  },
  {
   "cell_type": "code",
   "execution_count": null,
   "metadata": {},
   "outputs": [],
   "source": [
    "stringcase.snakecase(\"Imbalance Size\")"
   ]
  },
  {
   "cell_type": "code",
   "execution_count": null,
   "metadata": {},
   "outputs": [],
   "source": [
    "humps.decamelize(\"yahoo_symbol\").replace(\" \",\"\")"
   ]
  },
  {
   "cell_type": "code",
   "execution_count": null,
   "metadata": {},
   "outputs": [],
   "source": [
    "eod_df.rename(columns=lambda col_nm: humps.decamelize(col_nm).replace(\" \",\"\"), inplace=True)"
   ]
  },
  {
   "cell_type": "code",
   "execution_count": null,
   "metadata": {},
   "outputs": [],
   "source": [
    "eod_df.columns"
   ]
  },
  {
   "cell_type": "code",
   "execution_count": null,
   "metadata": {},
   "outputs": [],
   "source": [
    "sym = yf.Ticker(\"AAV.TO\")"
   ]
  },
  {
   "cell_type": "code",
   "execution_count": null,
   "metadata": {},
   "outputs": [],
   "source": [
    "\n",
    "\n",
    "eod_df.assign([sym.info])"
   ]
  },
  {
   "cell_type": "code",
   "execution_count": null,
   "metadata": {},
   "outputs": [],
   "source": [
    "info_df = pd.DataFrame([sym.info])\n",
    "eod_df.join(info_df)"
   ]
  },
  {
   "cell_type": "code",
   "execution_count": null,
   "metadata": {},
   "outputs": [],
   "source": [
    "moc_key_df"
   ]
  },
  {
   "cell_type": "code",
   "execution_count": null,
   "metadata": {},
   "outputs": [],
   "source": [
    "ohlc_df"
   ]
  },
  {
   "cell_type": "code",
   "execution_count": null,
   "metadata": {},
   "outputs": [],
   "source": [
    "df.stack(level=0)"
   ]
  },
  {
   "cell_type": "code",
   "execution_count": null,
   "metadata": {},
   "outputs": [],
   "source": [
    " df = yf.download(\n",
    "        \n",
    "        ['ABX.TO' 'AC.TO' 'ACB.TO' 'AD.TO' 'ADN.TO'], \n",
    "        start=st_dt.strftime('%Y-%m-%d'), \n",
    "        end=end_dt.strftime('%Y-%m-%d'),\n",
    "        interval=interval\n",
    " )"
   ]
  },
  {
   "cell_type": "raw",
   "metadata": {},
   "source": []
  },
  {
   "cell_type": "code",
   "execution_count": null,
   "metadata": {},
   "outputs": [],
   "source": [
    "for i in grpd_eod_dfs:\n",
    "    print(i[1][\"yahoo_symbol\"])"
   ]
  },
  {
   "cell_type": "code",
   "execution_count": null,
   "metadata": {},
   "outputs": [],
   "source": [
    "data = yf.download(\n",
    "    \"SPY AAPL\", \n",
    "    start=\"2020-04-06\", \n",
    "    end=\"2017-04-30\"\n",
    ")"
   ]
  },
  {
   "cell_type": "code",
   "execution_count": null,
   "metadata": {},
   "outputs": [],
   "source": [
    "# Make daily moc data\n",
    "daily_moc_df = moc_key_df.merge(\n",
    "    ohlc_df,\n",
    "    how=\"left\",\n",
    "    left_on=[\"moc_date\", \"yahoo_symbol\"],\n",
    "    right_on=[\"Date\", \"yahoo_symbol\"],\n",
    "    validate=\"one_to_one\"\n",
    ")"
   ]
  },
  {
   "cell_type": "code",
   "execution_count": null,
   "metadata": {},
   "outputs": [],
   "source": [
    "daily_moc_df = daily_moc_df.drop(\"Date\", axis=1)\n",
    "daily_moc_df"
   ]
  },
  {
   "cell_type": "code",
   "execution_count": null,
   "metadata": {},
   "outputs": [],
   "source": [
    "daily_moc_df.columns"
   ]
  },
  {
   "cell_type": "code",
   "execution_count": null,
   "metadata": {},
   "outputs": [],
   "source": [
    "clmn_name = 'Imbalance Side'\n",
    "tmp_col = clmn_name.split(\" \")\n",
    "tmp_col[0].lower()"
   ]
  },
  {
   "cell_type": "code",
   "execution_count": null,
   "metadata": {},
   "outputs": [],
   "source": [
    "def norm_clm_names(clm_name):\n",
    "    clm_name_lst = "
   ]
  },
  {
   "cell_type": "code",
   "execution_count": null,
   "metadata": {},
   "outputs": [],
   "source": [
    "daily_moc_df.columns  = map(str.split(\" \") ,daily_moc_df.columns) "
   ]
  },
  {
   "cell_type": "code",
   "execution_count": null,
   "metadata": {},
   "outputs": [],
   "source": [
    "som"
   ]
  },
  {
   "cell_type": "code",
   "execution_count": null,
   "metadata": {},
   "outputs": [],
   "source": [
    "ohlc_df_lst = dailyData.add_ohlc(moc_key_df)"
   ]
  },
  {
   "cell_type": "code",
   "execution_count": null,
   "metadata": {},
   "outputs": [],
   "source": []
  },
  {
   "cell_type": "code",
   "execution_count": null,
   "metadata": {},
   "outputs": [],
   "source": [
    "df_lst = [df for df in ohlc_df_lst]"
   ]
  },
  {
   "cell_type": "code",
   "execution_count": null,
   "metadata": {},
   "outputs": [],
   "source": [
    "ohlc_df = pd.concat(df_lst, axis=0).reset_index()"
   ]
  },
  {
   "cell_type": "code",
   "execution_count": null,
   "metadata": {},
   "outputs": [],
   "source": [
    "ohlc_df.head()"
   ]
  },
  {
   "cell_type": "code",
   "execution_count": 14,
   "metadata": {},
   "outputs": [],
   "source": [
    "st_dt = moc_key_df.iloc[0][\"moc_date\"].strftime('%Y-%m-%d')\n"
   ]
  },
  {
   "cell_type": "code",
   "execution_count": null,
   "metadata": {},
   "outputs": [],
   "source": [
    "sym = yf.Ticker(\"AEM.TO\")"
   ]
  },
  {
   "cell_type": "code",
   "execution_count": null,
   "metadata": {},
   "outputs": [],
   "source": [
    "sym.info[\"sector\"]"
   ]
  },
  {
   "cell_type": "code",
   "execution_count": null,
   "metadata": {},
   "outputs": [],
   "source": [
    "sym.history(\n",
    "    start=\"2020-04-02\",\n",
    "    end=\"2020-04-03\",\n",
    "    interval = \"1m\",\n",
    "    auto_adjust = True\n",
    ")\n",
    "    "
   ]
  },
  {
   "cell_type": "code",
   "execution_count": null,
   "metadata": {},
   "outputs": [],
   "source": [
    "sym.ticker"
   ]
  },
  {
   "cell_type": "code",
   "execution_count": null,
   "metadata": {},
   "outputs": [],
   "source": [
    "def get_ohlc(row):\n",
    "    sym = yf.Ticker(row[\"yahoo_symbol\"])\n",
    "    print(sym.info)\n",
    "    st_dt = row[\"moc_date\"]\n",
    "    end_dt = st_dt + timedelta(days=1)\n",
    "    \n",
    "    df = sym.history(\n",
    "            start=st_dt.strftime('%Y-%m-%d'), \n",
    "            end=end_dt.strftime('%Y-%m-%d'), \n",
    "            auto_adjust=True\n",
    "        ).head(1)\n",
    "    \n",
    "    # Add symbolto ohlc\n",
    "    df[\"yahoo_symbol\"] = row[\"yahoo_symbol\"]\n",
    "    print(sym.info)\n",
    "    #df[\"sector\"] = sym.info[\"sector\"]\n",
    "    return df\n",
    "\n",
    "ohlc_df_lst = moc_key_df.head(2).apply(get_ohlc, axis=1)"
   ]
  },
  {
   "cell_type": "code",
   "execution_count": null,
   "metadata": {},
   "outputs": [],
   "source": [
    "ohlc_df_lst[0].rea"
   ]
  },
  {
   "cell_type": "code",
   "execution_count": null,
   "metadata": {},
   "outputs": [],
   "source": [
    "st_dt = moc_key_df.iloc[0][\"moc_date\"].strftime('%Y-%m-%d')\n",
    "end_dt = moc_key_df.iloc[0][\"moc_date\"] # + timedelta(days=1)\n",
    "st_dt"
   ]
  },
  {
   "cell_type": "code",
   "execution_count": null,
   "metadata": {},
   "outputs": [],
   "source": [
    "sym_to_get_lst[:2]"
   ]
  },
  {
   "cell_type": "code",
   "execution_count": null,
   "metadata": {},
   "outputs": [],
   "source": [
    "data"
   ]
  },
  {
   "cell_type": "code",
   "execution_count": null,
   "metadata": {},
   "outputs": [],
   "source": [
    "return sym.history(start=st_dt).head(1)"
   ]
  },
  {
   "cell_type": "code",
   "execution_count": null,
   "metadata": {},
   "outputs": [],
   "source": [
    "def get_eod_data(row):\n",
    "    sym = yf.Ticker(row[\"yahoo_tsx_symbol\"])\n",
    "    row[\"currency\"] = sym.info[\"currency\"]\n",
    "    \n",
    "appiled_df = df[\"\"].apply(get_eod_data, axis=1)\n",
    "df = pd.concat([moc_key_df, appiled_df], axis='columns')"
   ]
  },
  {
   "cell_type": "code",
   "execution_count": null,
   "metadata": {},
   "outputs": [],
   "source": [
    "sym =  moc_key_df.iloc[0][\"Symbol\"]\n",
    "sym"
   ]
  },
  {
   "cell_type": "code",
   "execution_count": null,
   "metadata": {},
   "outputs": [],
   "source": [
    "pre_client = Client()\n",
    "project_nm = \"MOC\""
   ]
  },
  {
   "cell_type": "code",
   "execution_count": null,
   "metadata": {},
   "outputs": [],
   "source": [
    "try:\n",
    "    proj_id = pre_client.create_project(project_name=project_nm)\n",
    "except Exception as err:\n",
    "    print(err.with_traceback)"
   ]
  },
  {
   "cell_type": "code",
   "execution_count": null,
   "metadata": {},
   "outputs": [],
   "source": []
  },
  {
   "cell_type": "code",
   "execution_count": null,
   "metadata": {},
   "outputs": [],
   "source": [
    "scrape_tsxmoc_fl.storage = Docker(dockerfile=\"/home/ilivni/MOC/Dockerfile\")\n",
    "scrape_tsxmoc_fl.register(project_name=project_nm)"
   ]
  },
  {
   "cell_type": "code",
   "execution_count": null,
   "metadata": {},
   "outputs": [],
   "source": []
  },
  {
   "cell_type": "code",
   "execution_count": null,
   "metadata": {},
   "outputs": [],
   "source": [
    "Mschedule = IntervalSchedule(\n",
    "    start_date=datetime.utcnow() + timedelta(seconds=1),\n",
    "    interval=timedelta(minutes=1),\n",
    ")\n",
    "schedule"
   ]
  },
  {
   "cell_type": "code",
   "execution_count": null,
   "metadata": {},
   "outputs": [],
   "source": [
    "moc_df[\"Symbol\"] =moc_df[\"Symbol\"].fillna(\"NA\")"
   ]
  },
  {
   "cell_type": "code",
   "execution_count": null,
   "metadata": {},
   "outputs": [],
   "source": [
    "moc_df[moc_df[\"Symbol\"].isnull()]"
   ]
  },
  {
   "cell_type": "code",
   "execution_count": null,
   "metadata": {},
   "outputs": [],
   "source": [
    "moc_df.to_json(orient=\"records\")"
   ]
  }
 ],
 "metadata": {
  "kernelspec": {
   "display_name": "Python 3",
   "language": "python",
   "name": "python3"
  },
  "language_info": {
   "codemirror_mode": {
    "name": "ipython",
    "version": 3
   },
   "file_extension": ".py",
   "mimetype": "text/x-python",
   "name": "python",
   "nbconvert_exporter": "python",
   "pygments_lexer": "ipython3",
   "version": "3.7.7"
  }
 },
 "nbformat": 4,
 "nbformat_minor": 4
}
