{
 "cells": [
  {
   "cell_type": "code",
   "execution_count": 10,
   "metadata": {},
   "outputs": [],
   "source": [
    "import requests\n",
    "import pandas as pd\n",
    "\n",
    "from datetime import timedelta, datetime\n",
    "import pendulum\n",
    "\n",
    "from prefect import Client\n",
    "from prefect.schedules import IntervalSchedule\n",
    "from prefect.environments.storage import Docker\n",
    "\n",
    "\n",
    "from extractMOCData import CONFIG as cfg\n",
    "from extractMOCData.moc_data import scrape_tsxmoc_fl"
   ]
  },
  {
   "cell_type": "code",
   "execution_count": 11,
   "metadata": {},
   "outputs": [],
   "source": [
    "pre_client = Client()\n",
    "project_nm = \"MOC\""
   ]
  },
  {
   "cell_type": "code",
   "execution_count": 12,
   "metadata": {},
   "outputs": [
    {
     "name": "stdout",
     "output_type": "stream",
     "text": [
      "<built-in method with_traceback of ClientError object at 0x7f7092a1ef30>\n"
     ]
    }
   ],
   "source": [
    "try:\n",
    "    proj_id = pre_client.create_project(project_name=project_nm)\n",
    "except Exception as err:\n",
    "    print(err.with_traceback)"
   ]
  },
  {
   "cell_type": "code",
   "execution_count": null,
   "metadata": {},
   "outputs": [],
   "source": []
  },
  {
   "cell_type": "code",
   "execution_count": 15,
   "metadata": {},
   "outputs": [
    {
     "name": "stdout",
     "output_type": "stream",
     "text": [
      "[2020-04-02 05:28:33,036] INFO - prefect.Docker | Building the flow's Docker storage...\n",
      "Step 1/15 : FROM python:3.7\n",
      " ---> 879165535a54\n",
      "Step 2/15 : COPY . /extractMOCData\n",
      " ---> 32d11ec6fdc3\n",
      "Step 3/15 : WORKDIR /extractMOCData\n",
      " ---> Running in a137f2d8b415\n",
      "Removing intermediate container a137f2d8b415\n",
      " ---> 86e75c456f1c\n",
      "Step 4/15 : RUN apt-get update && apt-get install -y\n",
      " ---> Running in 0b152279c19d\n",
      "Get:1 http://security.debian.org/debian-security buster/updates InRelease [65.4 kB]\n",
      "Get:2 http://deb.debian.org/debian buster InRelease [122 kB]\n",
      "Get:3 http://deb.debian.org/debian buster-updates InRelease [49.3 kB]\n",
      "Get:4 http://security.debian.org/debian-security buster/updates/main amd64 Packages [186 kB]\n",
      "Get:5 http://deb.debian.org/debian buster/main amd64 Packages [7907 kB]\n",
      "Get:6 http://deb.debian.org/debian buster-updates/main amd64 Packages [7380 B]\n",
      "Fetched 8336 kB in 4s (2199 kB/s)\n",
      "Reading package lists...\n",
      "Reading package lists...\n",
      "Building dependency tree...\n",
      "Reading state information...\n",
      "0 upgraded, 0 newly installed, 0 to remove and 38 not upgraded.\n",
      "Removing intermediate container 0b152279c19d\n",
      " ---> af1e968216f4\n",
      "Step 5/15 : RUN pip install --upgrade pip\n",
      " ---> Running in e8ad20ffff7d\n",
      "Requirement already up-to-date: pip in /usr/local/lib/python3.7/site-packages (20.0.2)\n",
      "Removing intermediate container e8ad20ffff7d\n",
      " ---> 62f2666a3eb8\n",
      "Step 6/15 : RUN pip install -r requirements.txt\n",
      " ---> Running in 770bd2b951bb\n",
      "\u001b[91mERROR: Could not open requirements file: [Errno 2] No such file or directory: 'requirements.txt'\n",
      "\u001b[0m\n",
      "Removing intermediate container 770bd2b951bb\n",
      "The command '/bin/sh -c pip install -r requirements.txt' returned a non-zero code: 1\n"
     ]
    },
    {
     "ename": "ValueError",
     "evalue": "Your docker image failed to build!  Your flow might have failed one of its deployment health checks - please ensure that all necessary files and dependencies have been included.",
     "output_type": "error",
     "traceback": [
      "\u001b[0;31m---------------------------------------------------------------------------\u001b[0m",
      "\u001b[0;31mValueError\u001b[0m                                Traceback (most recent call last)",
      "\u001b[0;32m<ipython-input-15-d84f529c0293>\u001b[0m in \u001b[0;36m<module>\u001b[0;34m\u001b[0m\n\u001b[1;32m      1\u001b[0m \u001b[0mscrape_tsxmoc_fl\u001b[0m\u001b[0;34m.\u001b[0m\u001b[0mstorage\u001b[0m \u001b[0;34m=\u001b[0m \u001b[0mDocker\u001b[0m\u001b[0;34m(\u001b[0m\u001b[0mdockerfile\u001b[0m\u001b[0;34m=\u001b[0m\u001b[0;34m\"/home/ilivni/MOC/Dockerfile\"\u001b[0m\u001b[0;34m)\u001b[0m\u001b[0;34m\u001b[0m\u001b[0;34m\u001b[0m\u001b[0m\n\u001b[0;32m----> 2\u001b[0;31m \u001b[0mscrape_tsxmoc_fl\u001b[0m\u001b[0;34m.\u001b[0m\u001b[0mregister\u001b[0m\u001b[0;34m(\u001b[0m\u001b[0mproject_name\u001b[0m\u001b[0;34m=\u001b[0m\u001b[0mproject_nm\u001b[0m\u001b[0;34m)\u001b[0m\u001b[0;34m\u001b[0m\u001b[0;34m\u001b[0m\u001b[0m\n\u001b[0m",
      "\u001b[0;32m~/miniconda3/envs/py37moc/lib/python3.7/site-packages/prefect/core/flow.py\u001b[0m in \u001b[0;36mregister\u001b[0;34m(self, project_name, build, labels, set_schedule_active, version_group_id, no_url, **kwargs)\u001b[0m\n\u001b[1;32m   1370\u001b[0m             \u001b[0mset_schedule_active\u001b[0m\u001b[0;34m=\u001b[0m\u001b[0mset_schedule_active\u001b[0m\u001b[0;34m,\u001b[0m\u001b[0;34m\u001b[0m\u001b[0;34m\u001b[0m\u001b[0m\n\u001b[1;32m   1371\u001b[0m             \u001b[0mversion_group_id\u001b[0m\u001b[0;34m=\u001b[0m\u001b[0mversion_group_id\u001b[0m\u001b[0;34m,\u001b[0m\u001b[0;34m\u001b[0m\u001b[0;34m\u001b[0m\u001b[0m\n\u001b[0;32m-> 1372\u001b[0;31m             \u001b[0mno_url\u001b[0m\u001b[0;34m=\u001b[0m\u001b[0mno_url\u001b[0m\u001b[0;34m,\u001b[0m\u001b[0;34m\u001b[0m\u001b[0;34m\u001b[0m\u001b[0m\n\u001b[0m\u001b[1;32m   1373\u001b[0m         )\n\u001b[1;32m   1374\u001b[0m         \u001b[0;32mreturn\u001b[0m \u001b[0mregistered_flow\u001b[0m\u001b[0;34m\u001b[0m\u001b[0;34m\u001b[0m\u001b[0m\n",
      "\u001b[0;32m~/miniconda3/envs/py37moc/lib/python3.7/site-packages/prefect/client/client.py\u001b[0m in \u001b[0;36mregister\u001b[0;34m(self, flow, project_name, build, set_schedule_active, version_group_id, compressed, no_url)\u001b[0m\n\u001b[1;32m    585\u001b[0m                 )\n\u001b[1;32m    586\u001b[0m \u001b[0;34m\u001b[0m\u001b[0m\n\u001b[0;32m--> 587\u001b[0;31m         \u001b[0mserialized_flow\u001b[0m \u001b[0;34m=\u001b[0m \u001b[0mflow\u001b[0m\u001b[0;34m.\u001b[0m\u001b[0mserialize\u001b[0m\u001b[0;34m(\u001b[0m\u001b[0mbuild\u001b[0m\u001b[0;34m=\u001b[0m\u001b[0mbuild\u001b[0m\u001b[0;34m)\u001b[0m  \u001b[0;31m# type: Any\u001b[0m\u001b[0;34m\u001b[0m\u001b[0;34m\u001b[0m\u001b[0m\n\u001b[0m\u001b[1;32m    588\u001b[0m \u001b[0;34m\u001b[0m\u001b[0m\n\u001b[1;32m    589\u001b[0m         \u001b[0;31m# verify that the serialized flow can be deserialized\u001b[0m\u001b[0;34m\u001b[0m\u001b[0;34m\u001b[0m\u001b[0;34m\u001b[0m\u001b[0m\n",
      "\u001b[0;32m~/miniconda3/envs/py37moc/lib/python3.7/site-packages/prefect/core/flow.py\u001b[0m in \u001b[0;36mserialize\u001b[0;34m(self, build)\u001b[0m\n\u001b[1;32m   1226\u001b[0m                     \u001b[0;34m\" the last build, you might experience unexpected issues and should re-create your storage object.\"\u001b[0m\u001b[0;34m\u001b[0m\u001b[0;34m\u001b[0m\u001b[0m\n\u001b[1;32m   1227\u001b[0m                 )\n\u001b[0;32m-> 1228\u001b[0;31m             \u001b[0mstorage\u001b[0m \u001b[0;34m=\u001b[0m \u001b[0mself\u001b[0m\u001b[0;34m.\u001b[0m\u001b[0mstorage\u001b[0m\u001b[0;34m.\u001b[0m\u001b[0mbuild\u001b[0m\u001b[0;34m(\u001b[0m\u001b[0;34m)\u001b[0m  \u001b[0;31m# type: Optional[Storage]\u001b[0m\u001b[0;34m\u001b[0m\u001b[0;34m\u001b[0m\u001b[0m\n\u001b[0m\u001b[1;32m   1229\u001b[0m         \u001b[0;32melse\u001b[0m\u001b[0;34m:\u001b[0m\u001b[0;34m\u001b[0m\u001b[0;34m\u001b[0m\u001b[0m\n\u001b[1;32m   1230\u001b[0m             \u001b[0mstorage\u001b[0m \u001b[0;34m=\u001b[0m \u001b[0mself\u001b[0m\u001b[0;34m.\u001b[0m\u001b[0mstorage\u001b[0m\u001b[0;34m\u001b[0m\u001b[0;34m\u001b[0m\u001b[0m\n",
      "\u001b[0;32m~/miniconda3/envs/py37moc/lib/python3.7/site-packages/prefect/environments/storage/docker.py\u001b[0m in \u001b[0;36mbuild\u001b[0;34m(self, push)\u001b[0m\n\u001b[1;32m    280\u001b[0m \u001b[0;34m\u001b[0m\u001b[0m\n\u001b[1;32m    281\u001b[0m         \u001b[0mself\u001b[0m\u001b[0;34m.\u001b[0m\u001b[0mimage_tag\u001b[0m \u001b[0;34m=\u001b[0m \u001b[0mself\u001b[0m\u001b[0;34m.\u001b[0m\u001b[0mimage_tag\u001b[0m \u001b[0;32mor\u001b[0m \u001b[0mslugify\u001b[0m\u001b[0;34m(\u001b[0m\u001b[0mpendulum\u001b[0m\u001b[0;34m.\u001b[0m\u001b[0mnow\u001b[0m\u001b[0;34m(\u001b[0m\u001b[0;34m\"utc\"\u001b[0m\u001b[0;34m)\u001b[0m\u001b[0;34m.\u001b[0m\u001b[0misoformat\u001b[0m\u001b[0;34m(\u001b[0m\u001b[0;34m)\u001b[0m\u001b[0;34m)\u001b[0m\u001b[0;34m\u001b[0m\u001b[0;34m\u001b[0m\u001b[0m\n\u001b[0;32m--> 282\u001b[0;31m         \u001b[0mself\u001b[0m\u001b[0;34m.\u001b[0m\u001b[0m_build_image\u001b[0m\u001b[0;34m(\u001b[0m\u001b[0mpush\u001b[0m\u001b[0;34m=\u001b[0m\u001b[0mpush\u001b[0m\u001b[0;34m)\u001b[0m\u001b[0;34m\u001b[0m\u001b[0;34m\u001b[0m\u001b[0m\n\u001b[0m\u001b[1;32m    283\u001b[0m         \u001b[0;32mreturn\u001b[0m \u001b[0mself\u001b[0m\u001b[0;34m\u001b[0m\u001b[0;34m\u001b[0m\u001b[0m\n\u001b[1;32m    284\u001b[0m \u001b[0;34m\u001b[0m\u001b[0m\n",
      "\u001b[0;32m~/miniconda3/envs/py37moc/lib/python3.7/site-packages/prefect/environments/storage/docker.py\u001b[0m in \u001b[0;36m_build_image\u001b[0;34m(self, push)\u001b[0m\n\u001b[1;32m    340\u001b[0m             \u001b[0;32mif\u001b[0m \u001b[0mlen\u001b[0m\u001b[0;34m(\u001b[0m\u001b[0mclient\u001b[0m\u001b[0;34m.\u001b[0m\u001b[0mimages\u001b[0m\u001b[0;34m(\u001b[0m\u001b[0mname\u001b[0m\u001b[0;34m=\u001b[0m\u001b[0mfull_name\u001b[0m\u001b[0;34m)\u001b[0m\u001b[0;34m)\u001b[0m \u001b[0;34m==\u001b[0m \u001b[0;36m0\u001b[0m\u001b[0;34m:\u001b[0m\u001b[0;34m\u001b[0m\u001b[0;34m\u001b[0m\u001b[0m\n\u001b[1;32m    341\u001b[0m                 raise ValueError(\n\u001b[0;32m--> 342\u001b[0;31m                     \u001b[0;34m\"Your docker image failed to build!  Your flow might have \"\u001b[0m\u001b[0;34m\u001b[0m\u001b[0;34m\u001b[0m\u001b[0m\n\u001b[0m\u001b[1;32m    343\u001b[0m                     \u001b[0;34m\"failed one of its deployment health checks - please ensure \"\u001b[0m\u001b[0;34m\u001b[0m\u001b[0;34m\u001b[0m\u001b[0m\n\u001b[1;32m    344\u001b[0m                     \u001b[0;34m\"that all necessary files and dependencies have been included.\"\u001b[0m\u001b[0;34m\u001b[0m\u001b[0;34m\u001b[0m\u001b[0m\n",
      "\u001b[0;31mValueError\u001b[0m: Your docker image failed to build!  Your flow might have failed one of its deployment health checks - please ensure that all necessary files and dependencies have been included."
     ]
    }
   ],
   "source": [
    "scrape_tsxmoc_fl.storage = Docker(dockerfile=\"/home/ilivni/MOC/Dockerfile\")\n",
    "scrape_tsxmoc_fl.register(project_name=project_nm)"
   ]
  },
  {
   "cell_type": "code",
   "execution_count": null,
   "metadata": {},
   "outputs": [],
   "source": []
  },
  {
   "cell_type": "code",
   "execution_count": 28,
   "metadata": {},
   "outputs": [
    {
     "data": {
      "text/plain": [
       "<prefect.schedules.schedules.Schedule at 0x7f89981497d0>"
      ]
     },
     "execution_count": 28,
     "metadata": {},
     "output_type": "execute_result"
    }
   ],
   "source": [
    "Mschedule = IntervalSchedule(\n",
    "    start_date=datetime.utcnow() + timedelta(seconds=1),\n",
    "    interval=timedelta(minutes=1),\n",
    ")\n",
    "schedule"
   ]
  },
  {
   "cell_type": "code",
   "execution_count": 24,
   "metadata": {},
   "outputs": [],
   "source": [
    "def retrieve_url(url='https://api.tmxmoney.com/mocimbalance/en/TSX/moc.html'):\n",
    "    \n",
    "    html = requests.get(url).content\n",
    "    df_list = pd.read_html(html, header=[0], displayed_only=False)\n",
    "    moc_df = df_list[-1]\n",
    "    \n",
    "    moc_df[\"moc_date\"] = dt.datetime.today().strftime('%Y%m%d')\n",
    "    return moc_df"
   ]
  },
  {
   "cell_type": "code",
   "execution_count": null,
   "metadata": {},
   "outputs": [],
   "source": []
  },
  {
   "cell_type": "code",
   "execution_count": 25,
   "metadata": {},
   "outputs": [],
   "source": [
    "moc_df = moc_to_df()"
   ]
  },
  {
   "cell_type": "code",
   "execution_count": 26,
   "metadata": {},
   "outputs": [],
   "source": [
    "\n",
    "\n",
    "today = pd.Timestamp('today')\n",
    "moc_df.to_csv(f\"moc_{today:%Y%m%d}.csv\", index=False)"
   ]
  },
  {
   "cell_type": "code",
   "execution_count": 11,
   "metadata": {},
   "outputs": [
    {
     "data": {
      "text/plain": [
       "Index(['Symbol', 'Imbalance Side', 'Imbalance Size',\n",
       "       'Imbalance Reference Price', 'moc_date'],\n",
       "      dtype='object')"
      ]
     },
     "execution_count": 11,
     "metadata": {},
     "output_type": "execute_result"
    }
   ],
   "source": [
    "moc_df.columns\n"
   ]
  },
  {
   "cell_type": "code",
   "execution_count": 18,
   "metadata": {},
   "outputs": [],
   "source": [
    "moc_df[\"Symbol\"] =moc_df[\"Symbol\"].fillna(\"NA\")"
   ]
  },
  {
   "cell_type": "code",
   "execution_count": 21,
   "metadata": {},
   "outputs": [
    {
     "data": {
      "text/html": [
       "<div>\n",
       "<style scoped>\n",
       "    .dataframe tbody tr th:only-of-type {\n",
       "        vertical-align: middle;\n",
       "    }\n",
       "\n",
       "    .dataframe tbody tr th {\n",
       "        vertical-align: top;\n",
       "    }\n",
       "\n",
       "    .dataframe thead th {\n",
       "        text-align: right;\n",
       "    }\n",
       "</style>\n",
       "<table border=\"1\" class=\"dataframe\">\n",
       "  <thead>\n",
       "    <tr style=\"text-align: right;\">\n",
       "      <th></th>\n",
       "      <th>Symbol</th>\n",
       "      <th>Imbalance Side</th>\n",
       "      <th>Imbalance Size</th>\n",
       "      <th>Imbalance Reference Price</th>\n",
       "      <th>moc_date</th>\n",
       "    </tr>\n",
       "  </thead>\n",
       "  <tbody>\n",
       "  </tbody>\n",
       "</table>\n",
       "</div>"
      ],
      "text/plain": [
       "Empty DataFrame\n",
       "Columns: [Symbol, Imbalance Side, Imbalance Size, Imbalance Reference Price, moc_date]\n",
       "Index: []"
      ]
     },
     "execution_count": 21,
     "metadata": {},
     "output_type": "execute_result"
    }
   ],
   "source": [
    "moc_df[moc_df[\"Symbol\"].isnull()]"
   ]
  },
  {
   "cell_type": "code",
   "execution_count": null,
   "metadata": {},
   "outputs": [],
   "source": [
    "moc_df.to_json(orient=\"records\")"
   ]
  }
 ],
 "metadata": {
  "kernelspec": {
   "display_name": "Python 3",
   "language": "python",
   "name": "python3"
  },
  "language_info": {
   "codemirror_mode": {
    "name": "ipython",
    "version": 3
   },
   "file_extension": ".py",
   "mimetype": "text/x-python",
   "name": "python",
   "nbconvert_exporter": "python",
   "pygments_lexer": "ipython3",
   "version": "3.7.7"
  }
 },
 "nbformat": 4,
 "nbformat_minor": 4
}
