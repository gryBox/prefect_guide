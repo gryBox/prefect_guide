{
 "cells": [
  {
   "cell_type": "code",
   "execution_count": 2,
   "metadata": {},
   "outputs": [],
   "source": [
    "%load_ext autoreload"
   ]
  },
  {
   "cell_type": "code",
   "execution_count": 3,
   "metadata": {},
   "outputs": [],
   "source": [
    "%autoreload 2"
   ]
  },
  {
   "cell_type": "markdown",
   "metadata": {},
   "source": [
    "# An example of a Low Liquidity Trade"
   ]
  },
  {
   "cell_type": "code",
   "execution_count": 16,
   "metadata": {},
   "outputs": [],
   "source": [
    "import requests\n",
    "import s3fs\n",
    "import pandas as pd\n",
    "import re\n",
    "import humps\n",
    "import sqlalchemy as sa\n",
    "from datetime import timedelta, datetime\n",
    "import datetime as dt\n",
    "import pendulum\n",
    "\n",
    "\n",
    "import yfinance as yf\n",
    "\n",
    "from prefect import Client, Task, Flow, task, Parameter\n",
    "from prefect.schedules import IntervalSchedule\n",
    "from prefect.environments.storage import Docker\n",
    "from prefect.schedules import clocks, filters, Schedule\n",
    "\n",
    "# Homemade\n",
    "from extractMOCData import CONFIG as cfg\n",
    "from extractMOCData.moc_data import TsxMocData\n",
    "\n",
    "from normalize.ticker_symbols import MapTickerSymbols\n",
    "from addFeatures.daily import DailyData \n",
    "\n",
    "from mocIO.read_moc import get_moc_file_lst\n",
    "#from extractMOCData import read_moc \n",
    "\n",
    "import etl_moc"
   ]
  },
  {
   "cell_type": "markdown",
   "metadata": {},
   "source": [
    "## Add Scheduler"
   ]
  },
  {
   "cell_type": "code",
   "execution_count": 44,
   "metadata": {},
   "outputs": [],
   "source": [
    "# Schedule when to run the script\n",
    "schedule = Schedule(\n",
    "    # fire every day\n",
    "    clocks=[clocks.IntervalClock(\n",
    "        start_date=pendulum.datetime(2020, 4, 26, 17, 15, tz=\"America/Toronto\"),\n",
    "        interval=timedelta(days=1)\n",
    "        )],\n",
    "    # but only on weekdays\n",
    "    filters=[filters.is_weekday],\n",
    "\n",
    "    # and not in January TODO: Add TSX Holidays\n",
    "    not_filters=[filters.between_dates(1, 1, 1, 31)]\n",
    ")"
   ]
  },
  {
   "cell_type": "code",
   "execution_count": 45,
   "metadata": {},
   "outputs": [
    {
     "data": {
      "text/plain": [
       "[DateTime(2020, 4, 27, 17, 15, 0, tzinfo=Timezone('America/Toronto')),\n",
       " DateTime(2020, 4, 28, 17, 15, 0, tzinfo=Timezone('America/Toronto')),\n",
       " DateTime(2020, 4, 29, 17, 15, 0, tzinfo=Timezone('America/Toronto')),\n",
       " DateTime(2020, 4, 30, 17, 15, 0, tzinfo=Timezone('America/Toronto')),\n",
       " DateTime(2020, 5, 1, 17, 15, 0, tzinfo=Timezone('America/Toronto')),\n",
       " DateTime(2020, 5, 4, 17, 15, 0, tzinfo=Timezone('America/Toronto')),\n",
       " DateTime(2020, 5, 5, 17, 15, 0, tzinfo=Timezone('America/Toronto')),\n",
       " DateTime(2020, 5, 6, 17, 15, 0, tzinfo=Timezone('America/Toronto')),\n",
       " DateTime(2020, 5, 7, 17, 15, 0, tzinfo=Timezone('America/Toronto')),\n",
       " DateTime(2020, 5, 8, 17, 15, 0, tzinfo=Timezone('America/Toronto'))]"
      ]
     },
     "execution_count": 45,
     "metadata": {},
     "output_type": "execute_result"
    }
   ],
   "source": [
    "schedule.next(10)"
   ]
  },
  {
   "cell_type": "markdown",
   "metadata": {},
   "source": [
    "## Deploy to cloud\n"
   ]
  },
  {
   "cell_type": "code",
   "execution_count": 6,
   "metadata": {},
   "outputs": [
    {
     "name": "stdout",
     "output_type": "stream",
     "text": [
      "Result Handler check: OK\n",
      "Flow: https://cloud.prefect.io/edugame-maker/flow/c5c20a87-20b2-4afc-9148-7580214c21fd\n"
     ]
    },
    {
     "data": {
      "text/plain": [
       "'c5c20a87-20b2-4afc-9148-7580214c21fd'"
      ]
     },
     "execution_count": 6,
     "metadata": {},
     "output_type": "execute_result"
    }
   ],
   "source": [
    "# 1. Go to the UI client and create a project name\n",
    "\n",
    "# 2. Register flow\n",
    "etl_moc.etl_moc_flow.register(project_name=\"market-on-close\")"
   ]
  },
  {
   "cell_type": "code",
   "execution_count": null,
   "metadata": {},
   "outputs": [],
   "source": [
    "# tsxMocData = TsxMocData()\n",
    "\n",
    "# moc_df = tsxMocData.scrape_moc_data()"
   ]
  },
  {
   "cell_type": "markdown",
   "metadata": {},
   "source": [
    "## Load Raw Data"
   ]
  },
  {
   "cell_type": "code",
   "execution_count": null,
   "metadata": {},
   "outputs": [],
   "source": [
    "# See a list of tsx moc data\n",
    "moc_file_lst = get_moc_file_lst.run(\"tsx-moc\")\n",
    "moc_file_lst"
   ]
  },
  {
   "cell_type": "code",
   "execution_count": null,
   "metadata": {},
   "outputs": [],
   "source": [
    "# Get all the files\n",
    "data_flpth_lst = map(lambda flnm:  f\"s3://{flnm}\", moc_file_lst)\n",
    "df_lst = [pd.read_csv(data_flpth, parse_dates=[\"moc_date\"], na_filter=False) for data_flpth in list(data_flpth_lst)]\n",
    "tsx_moc_df = pd.concat(df_lst , ignore_index=True)\n",
    "tsx_moc_df.loc[tsx_moc_df[\"Symbol\"]==\"\", \"Symbol\"] = \"NA\""
   ]
  },
  {
   "cell_type": "raw",
   "metadata": {},
   "source": [
    "tsx_moc_df = pd.read_csv(data_flpth, parse_dates=[\"moc_date\"], na_filter=False)\n",
    "tsx_moc_df.loc[tsx_moc_df[\"Symbol\"]==\"\", \"Symbol\"] = \"NA\""
   ]
  },
  {
   "cell_type": "code",
   "execution_count": null,
   "metadata": {},
   "outputs": [],
   "source": [
    "tsx_moc_df[tsx_moc_df[\"Symbol\"].isna()==True]"
   ]
  },
  {
   "cell_type": "code",
   "execution_count": null,
   "metadata": {},
   "outputs": [],
   "source": [
    "tsx_moc_df[\"Symbol\"].nunique()"
   ]
  },
  {
   "cell_type": "markdown",
   "metadata": {},
   "source": [
    "## Create a key table\n",
    "Map TSX symbols to Yahoo Symbols"
   ]
  },
  {
   "cell_type": "code",
   "execution_count": null,
   "metadata": {},
   "outputs": [],
   "source": [
    "yhooMap =  MapTickerSymbols()\n",
    "moc_key_df = yhooMap.run(tsx_moc_df)\n",
    "moc_key_df[\"moc_date\"] = moc_key_df[\"moc_date\"].dt.date"
   ]
  },
  {
   "cell_type": "code",
   "execution_count": null,
   "metadata": {},
   "outputs": [],
   "source": [
    "moc_key_df.info()"
   ]
  },
  {
   "cell_type": "code",
   "execution_count": null,
   "metadata": {},
   "outputs": [],
   "source": [
    "#moc_key_df[\"moc_date\"] = moc_key_df[\"moc_date\"].dt.date"
   ]
  },
  {
   "cell_type": "markdown",
   "metadata": {},
   "source": [
    "## Get daily features\n",
    "(from yahoo)"
   ]
  },
  {
   "cell_type": "raw",
   "metadata": {},
   "source": [
    "# Get EOD features\n",
    "info_df = pd.read_json(\"info.json\", orient=\"records\")\n",
    "info_df = info_df.rename(columns={'symbol': \"yahoo_symbol\"})\n",
    "info_df.to_json(\"info.json\", orient=\"records\")"
   ]
  },
  {
   "cell_type": "markdown",
   "metadata": {},
   "source": [
    "#### Price"
   ]
  },
  {
   "cell_type": "code",
   "execution_count": null,
   "metadata": {},
   "outputs": [],
   "source": [
    "eod_price_df = etl_moc.get_eod_price_data.run(moc_key_df)"
   ]
  },
  {
   "cell_type": "markdown",
   "metadata": {},
   "source": [
    "#### Other Attributes\n",
    "(float, short interest)"
   ]
  },
  {
   "cell_type": "code",
   "execution_count": null,
   "metadata": {},
   "outputs": [],
   "source": [
    "eod_info_df = etl_moc.get_sym_info.run(moc_key_df)"
   ]
  },
  {
   "cell_type": "markdown",
   "metadata": {},
   "source": [
    "## Get indtraday features\n",
    "(from yahoo)"
   ]
  },
  {
   "cell_type": "code",
   "execution_count": null,
   "metadata": {},
   "outputs": [],
   "source": [
    "intraday_df = etl_moc.get_1min_ohlc.run(moc_key_df)"
   ]
  },
  {
   "cell_type": "markdown",
   "metadata": {},
   "source": [
    "## Create MOC table"
   ]
  },
  {
   "cell_type": "code",
   "execution_count": null,
   "metadata": {},
   "outputs": [],
   "source": [
    "moc_df = etl_moc.build_moc_data.run(intraday_df, eod_price_df, eod_info_df)"
   ]
  },
  {
   "cell_type": "code",
   "execution_count": null,
   "metadata": {},
   "outputs": [],
   "source": [
    "moc_df.head()"
   ]
  },
  {
   "cell_type": "markdown",
   "metadata": {},
   "source": [
    "## Write to Db"
   ]
  },
  {
   "cell_type": "code",
   "execution_count": null,
   "metadata": {},
   "outputs": [],
   "source": [
    "# 1. Eod\n",
    "index_clmn_lst = [\"moc_date\", \"yahoo_symbol\"]"
   ]
  },
  {
   "cell_type": "code",
   "execution_count": null,
   "metadata": {},
   "outputs": [],
   "source": [
    "num_rows_ins = etl_moc.df_to_db.run(intraday_df, tbl_name=\"intraday_prices\", idx_clmn_lst=index_clmn_lst)"
   ]
  },
  {
   "cell_type": "code",
   "execution_count": null,
   "metadata": {},
   "outputs": [],
   "source": [
    "# 2. Write to db\n",
    "num_rows_ins = etl_moc.df_to_db.run(eod_price_df, tbl_name=\"eod_prices\", idx_clmn_lst=index_clmn_lst)"
   ]
  },
  {
   "cell_type": "code",
   "execution_count": null,
   "metadata": {},
   "outputs": [],
   "source": [
    "# 3. Write to db\n",
    "num_rows_ins = etl_moc.df_to_db.run(eod_info_df, tbl_name=\"eod_sym_info\", idx_clmn_lst=index_clmn_lst)"
   ]
  },
  {
   "cell_type": "code",
   "execution_count": null,
   "metadata": {},
   "outputs": [],
   "source": [
    "# 4. Write to db\n",
    "num_rows_ins = etl_moc.df_to_db.run(moc_df, tbl_name=\"daily_moc\", idx_clmn_lst=index_clmn_lst)"
   ]
  },
  {
   "cell_type": "markdown",
   "metadata": {},
   "source": []
  },
  {
   "cell_type": "code",
   "execution_count": null,
   "metadata": {},
   "outputs": [],
   "source": []
  },
  {
   "cell_type": "code",
   "execution_count": null,
   "metadata": {},
   "outputs": [],
   "source": [
    "from prefect import task, Flow\n",
    "from prefect.tasks.secrets import EnvVarSecret\n",
    "\n",
    "@task\n",
    "def print_value(x):\n",
    "    print(x)\n",
    "\n",
    "with Flow(\"Example\") as flow:\n",
    "    secret = EnvVarSecret(\"moc_pgdb_conn\")\n",
    "    print_value(secret)"
   ]
  },
  {
   "cell_type": "code",
   "execution_count": null,
   "metadata": {},
   "outputs": [],
   "source": [
    "flow.run()"
   ]
  },
  {
   "cell_type": "code",
   "execution_count": null,
   "metadata": {},
   "outputs": [],
   "source": [
    "import prefect\n",
    "from prefect.client import Secret"
   ]
  },
  {
   "cell_type": "code",
   "execution_count": null,
   "metadata": {},
   "outputs": [],
   "source": [
    "prefect.context.secrets[\"AWS_CREDENTIALS\"] = "
   ]
  },
  {
   "cell_type": "code",
   "execution_count": null,
   "metadata": {},
   "outputs": [],
   "source": [
    "s = Secret(\"hello\")"
   ]
  },
  {
   "cell_type": "code",
   "execution_count": null,
   "metadata": {},
   "outputs": [],
   "source": [
    "s.exists()"
   ]
  },
  {
   "cell_type": "raw",
   "metadata": {},
   "source": [
    "###############"
   ]
  },
  {
   "cell_type": "code",
   "execution_count": null,
   "metadata": {},
   "outputs": [],
   "source": [
    "scrape_tsxmoc_fl.storage = Docker(dockerfile=\"/home/ilivni/MOC/Dockerfile\")\n",
    "scrape_tsxmoc_fl.register(project_name=project_nm)"
   ]
  },
  {
   "cell_type": "code",
   "execution_count": null,
   "metadata": {},
   "outputs": [],
   "source": [
    "import boto3\n",
    "session = boto3.session.Session()\n",
    "client = session.client(\n",
    "        service_name='secretsmanager'\n",
    "    )\n",
    "get_secret_value_response = client.get_secret_value(\n",
    "            SecretId=secret_name\n",
    "        )"
   ]
  },
  {
   "cell_type": "code",
   "execution_count": null,
   "metadata": {},
   "outputs": [],
   "source": [
    "secret = get_secret_value_response['SecretString']"
   ]
  },
  {
   "cell_type": "code",
   "execution_count": null,
   "metadata": {},
   "outputs": [],
   "source": [
    "db_creds = get_db_creds()\n",
    "type(db_creds)"
   ]
  },
  {
   "cell_type": "code",
   "execution_count": null,
   "metadata": {},
   "outputs": [],
   "source": [
    "db_creds"
   ]
  },
  {
   "cell_type": "code",
   "execution_count": null,
   "metadata": {},
   "outputs": [],
   "source": []
  },
  {
   "cell_type": "code",
   "execution_count": null,
   "metadata": {},
   "outputs": [],
   "source": [
    "# Use this code snippet in your app.\n",
    "# If you need more information about configurations or implementing the sample code, visit the AWS docs:\n",
    "# https://aws.amazon.com/developers/getting-started/ruby/\n",
    "\n",
    "# Use this code snippet in your app.\n",
    "# If you need more information about configurations or implementing the sample code, visit the AWS docs:   \n",
    "# https://aws.amazon.com/developers/getting-started/python/\n",
    "\n",
    "import boto3\n",
    "import base64\n",
    "from botocore.exceptions import ClientError\n",
    "\n",
    "\n",
    "def get_secret():\n",
    "\n",
    "    secret_name = \"moc-pg-db\"\n",
    "    region_name = \"us-east-2\"\n",
    "\n",
    "    # Create a Secrets Manager client\n",
    "    session = boto3.session.Session()\n",
    "    client = session.client(\n",
    "        service_name='secretsmanager',\n",
    "        region_name=region_name\n",
    "    )\n",
    "\n",
    "    # In this sample we only handle the specific exceptions for the 'GetSecretValue' API.\n",
    "    # See https://docs.aws.amazon.com/secretsmanager/latest/apireference/API_GetSecretValue.html\n",
    "    # We rethrow the exception by default.\n",
    "\n",
    "    try:\n",
    "        get_secret_value_response = client.get_secret_value(\n",
    "            SecretId=secret_name\n",
    "        )\n",
    "    except ClientError as e:\n",
    "        if e.response['Error']['Code'] == 'DecryptionFailureException':\n",
    "            # Secrets Manager can't decrypt the protected secret text using the provided KMS key.\n",
    "            # Deal with the exception here, and/or rethrow at your discretion.\n",
    "            raise e\n",
    "        elif e.response['Error']['Code'] == 'InternalServiceErrorException':\n",
    "            # An error occurred on the server side.\n",
    "            # Deal with the exception here, and/or rethrow at your discretion.\n",
    "            raise e\n",
    "        elif e.response['Error']['Code'] == 'InvalidParameterException':\n",
    "            # You provided an invalid value for a parameter.\n",
    "            # Deal with the exception here, and/or rethrow at your discretion.\n",
    "            raise e\n",
    "        elif e.response['Error']['Code'] == 'InvalidRequestException':\n",
    "            # You provided a parameter value that is not valid for the current state of the resource.\n",
    "            # Deal with the exception here, and/or rethrow at your discretion.\n",
    "            raise e\n",
    "        elif e.response['Error']['Code'] == 'ResourceNotFoundException':\n",
    "            # We can't find the resource that you asked for.\n",
    "            # Deal with the exception here, and/or rethrow at your discretion.\n",
    "            raise e\n",
    "    else:\n",
    "        # Decrypts secret using the associated KMS CMK.\n",
    "        # Depending on whether the secret is a string or binary, one of these fields will be populated.\n",
    "        if 'SecretString' in get_secret_value_response:\n",
    "            secret = get_secret_value_response['SecretString']\n",
    "        else:\n",
    "            decoded_binary_secret = base64.b64decode(get_secret_value_response['SecretBinary'])\n",
    "            \n",
    "    # Your code goes here. "
   ]
  },
  {
   "cell_type": "code",
   "execution_count": null,
   "metadata": {},
   "outputs": [],
   "source": [
    "Mschedule = IntervalSchedule(\n",
    "    start_date=datetime.utcnow() + timedelta(seconds=1),\n",
    "    interval=timedelta(minutes=1),\n",
    ")\n",
    "schedule"
   ]
  },
  {
   "cell_type": "code",
   "execution_count": null,
   "metadata": {},
   "outputs": [],
   "source": [
    "moc_df[\"Symbol\"] =moc_df[\"Symbol\"].fillna(\"NA\")"
   ]
  },
  {
   "cell_type": "code",
   "execution_count": null,
   "metadata": {},
   "outputs": [],
   "source": [
    "moc_df[moc_df[\"Symbol\"].isnull()]"
   ]
  },
  {
   "cell_type": "code",
   "execution_count": null,
   "metadata": {},
   "outputs": [],
   "source": [
    "moc_df.to_json(orient=\"records\")"
   ]
  }
 ],
 "metadata": {
  "kernelspec": {
   "display_name": "Python 3",
   "language": "python",
   "name": "python3"
  },
  "language_info": {
   "codemirror_mode": {
    "name": "ipython",
    "version": 3
   },
   "file_extension": ".py",
   "mimetype": "text/x-python",
   "name": "python",
   "nbconvert_exporter": "python",
   "pygments_lexer": "ipython3",
   "version": "3.7.7"
  }
 },
 "nbformat": 4,
 "nbformat_minor": 4
}
