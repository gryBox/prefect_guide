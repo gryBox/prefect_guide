{
 "cells": [
  {
   "cell_type": "code",
   "execution_count": 40,
   "metadata": {},
   "outputs": [],
   "source": [
    "%load_ext autoreload"
   ]
  },
  {
   "cell_type": "code",
   "execution_count": 41,
   "metadata": {},
   "outputs": [],
   "source": [
    "%autoreload 2"
   ]
  },
  {
   "cell_type": "markdown",
   "metadata": {},
   "source": [
    "# Inroduction\n",
    "\n",
    "## A guide to develop and deploy a modern data pipeline to production infrastructure\n",
    "Using two tasks this guide will go through the three principle stages nesscary to develop a modern data pipeline in python.  \n",
    "\n",
    "#### Pipeline tasks\n",
    "1. Extract MOC imbalance data from the TSX website\n",
    "2. Load the data into a `postgress` database\n",
    "\n",
    "In reality a pipeline will include other tasks that might: (1) Extract data from many sources at different time zones. (2) Prepare the data for analytics or prediction algorithm(s). (3) run multiple statistical experiments on decentralized infrastructure.\n",
    "\n",
    "Our motivating example is a toy ETL pipeline that extracs data from the Toronto Stock Exchange's Market on Close facilty website and loads into a database.  The data is published every trading day at 15:40 Toronto time and at midnight the table gets flushed out.\n",
    " \n",
    "\n",
    "### Principle stages and tools\n",
    "1.  Write the base code\n",
    "2.  Implement task configuration and orchestration logic for individual tasks and the pipeline. i.e. error handling, execution logic\n",
    "3.  Deploy the flow to a compute enviroment. Local, self hosted or IaaS providor. In our case AWS\n",
    "\n",
    "| Development Stage | Tool | Purpose | pip install |\n",
    "|------|------|------|------|\n",
    "|  Base code  | `requests`, `lxml`, `html5lib`| extract content from web | pip install requests lxml html5lib|\n",
    "| | pandas| transforming and passing data | pip install requests pandas |\n",
    "| | datetime | Handling dates | pip install datetime |\n",
    "| | psycopg2 | database driver | psycopg2 |\n",
    "|  Task configuration and orchestration  | prefect| orchestration, configuration, execution method | pip install -U \"prefect[viz, aws]\" |\n",
    "|  Deployment  | prefect| Scheduling and monitoring |  |\n",
    "| | AWS Batch | compute | Instructions in guide |\n",
    "| | AWS ECR | docker repo | Instructions in guide |\n",
    "| | AWS s3| object storage | - |\n",
    "\n",
    "### Requirements\n",
    "- An AWS account\n",
    "    - aws cli configured on the lcoal machine. [Instructions](https://docs.aws.amazon.com/cli/latest/userguide/cli-chap-configure.html)\n",
    "- postgres db - Remote lazy way: [Lightsail](https://aws.amazon.com/lightsail/) is free for a month, easy to setup and teardown for experiments. postgress or mysql.\n",
    "- Docker - [docker install](https://docs.docker.com/engine/install/#supported-platforms).  \n",
    "- graphviz - [download](https://www.graphviz.org/download/).  Choose your os.\n",
    "- python 3.7\n",
    "    - prefect - `pip install -U \"prefect[viz, aws]\"` See [prefect install](https://docs.prefect.io/core/getting_started/installation.html) for other possibilities.\n",
    "    "
   ]
  },
  {
   "cell_type": "markdown",
   "metadata": {},
   "source": [
    "## Base pipeline tasks\n",
    "Context - Our base code will live in a directory called `prefect_guide`. In one file called `get_moc.py`.  Both can be named any valid unix valid names."
   ]
  },
  {
   "cell_type": "markdown",
   "metadata": {},
   "source": [
    "### a. Extract MOC imbalance data from the TSX website\n",
    "\n",
    "The first task is to retrieve data from a table from the [TSX website](https://api.tmxmoney.com/mocimbalance/en/TSX/moc.html)  using `requests`.  The task returns and returns a `dataframe` with the MOC imbalances for the day. "
   ]
  },
  {
   "cell_type": "code",
   "execution_count": 6,
   "metadata": {},
   "outputs": [],
   "source": [
    "import pandas as pd\n",
    "import requests\n",
    "\n",
    "\n",
    "import logging\n",
    "logger = logging.getLogger()\n",
    "logger.setLevel(logging.INFO)\n",
    "\n",
    "def get_tsx_moc_imb(url: str):\n",
    "    \"\"\"\n",
    "    Scrape the TSX website Market on close website. Data only available weekdays after 15:40 pm Toronto time\n",
    "    until 12 am.\n",
    "    \n",
    "    Use archived url for testing.       \n",
    "    \"https://web.archive.org/web/20200414202757/https://api.tmxmoney.com/mocimbalance/en/TSX/moc.html\"\n",
    "    \"\"\"\n",
    "    \n",
    "    # 1, Get the html content\n",
    "    html = requests.get(url).content\n",
    "    \n",
    "    # 2. Read all the tables\n",
    "    df_list = pd.read_html(html, header=[0], na_values=[''], keep_default_na=False)\n",
    "    \n",
    "    tsx_imb_df = df_list[-1]\n",
    "    \n",
    "    logger.info(f\"MOC download shape {tsx_imb_df.shape}\")\n",
    "\n",
    "    return tsx_imb_df"
   ]
  },
  {
   "cell_type": "markdown",
   "metadata": {},
   "source": [
    "#### Run the function\n",
    "\n",
    "After running the function below the user will get one of three results: \n",
    "\n",
    "   1. A dataframe having a shape of `[num_rows > 1, 4]`\n",
    "   2. A dataframe having a shape of `[0, 4]`\n",
    "   3. Some connection error .i.e. `RemoteDisconnected`, ... \n",
    "\n",
    "No matter what result is returned, it will be handled later in the configuration and orchastration stage. But for the purposes of validating the next step use the `backup_url` given below "
   ]
  },
  {
   "cell_type": "code",
   "execution_count": 43,
   "metadata": {},
   "outputs": [
    {
     "name": "stdout",
     "output_type": "stream",
     "text": [
      "(389, 4)\n"
     ]
    },
    {
     "data": {
      "text/html": [
       "<div>\n",
       "<style scoped>\n",
       "    .dataframe tbody tr th:only-of-type {\n",
       "        vertical-align: middle;\n",
       "    }\n",
       "\n",
       "    .dataframe tbody tr th {\n",
       "        vertical-align: top;\n",
       "    }\n",
       "\n",
       "    .dataframe thead th {\n",
       "        text-align: right;\n",
       "    }\n",
       "</style>\n",
       "<table border=\"1\" class=\"dataframe\">\n",
       "  <thead>\n",
       "    <tr style=\"text-align: right;\">\n",
       "      <th></th>\n",
       "      <th>Symbol</th>\n",
       "      <th>Imbalance Side</th>\n",
       "      <th>Imbalance Size</th>\n",
       "      <th>Imbalance Reference Price</th>\n",
       "    </tr>\n",
       "  </thead>\n",
       "  <tbody>\n",
       "    <tr>\n",
       "      <th>0</th>\n",
       "      <td>AAV</td>\n",
       "      <td>BUY</td>\n",
       "      <td>34003</td>\n",
       "      <td>1.725</td>\n",
       "    </tr>\n",
       "    <tr>\n",
       "      <th>1</th>\n",
       "      <td>ABX</td>\n",
       "      <td>BUY</td>\n",
       "      <td>460592</td>\n",
       "      <td>34.005</td>\n",
       "    </tr>\n",
       "    <tr>\n",
       "      <th>2</th>\n",
       "      <td>ACB</td>\n",
       "      <td>BUY</td>\n",
       "      <td>211790</td>\n",
       "      <td>1.035</td>\n",
       "    </tr>\n",
       "  </tbody>\n",
       "</table>\n",
       "</div>"
      ],
      "text/plain": [
       "  Symbol Imbalance Side  Imbalance Size  Imbalance Reference Price\n",
       "0    AAV            BUY           34003                      1.725\n",
       "1    ABX            BUY          460592                     34.005\n",
       "2    ACB            BUY          211790                      1.035"
      ]
     },
     "execution_count": 43,
     "metadata": {},
     "output_type": "execute_result"
    }
   ],
   "source": [
    "tsx_url = 'https://api.tmxmoney.com/mocimbalance/en/TSX/moc.html'\n",
    "backup_url = \"https://web.archive.org/web/20200414202757/https://api.tmxmoney.com/mocimbalance/en/TSX/moc.html\"\n",
    "\n",
    "tsx_imb_df = get_tsx_moc_imb(backup_url)\n",
    "print(tsx_imb_df.shape)\n",
    "tsx_imb_df.head(3)  "
   ]
  },
  {
   "cell_type": "markdown",
   "metadata": {},
   "source": [
    "### b. Load to database\n",
    "\n",
    "This task takes the transformed data as an input and loads the `imb_df` to a database using `sqlAlchemy`.  There are many ways to accomplish this goal, including some baked into `prefect`. But this is the simplest in terms of writing from a small `df`. "
   ]
  },
  {
   "cell_type": "code",
   "execution_count": 55,
   "metadata": {},
   "outputs": [],
   "source": [
    "import sqlalchemy as sa\n",
    "def df_to_db(df, tbl_name, conn_str):\n",
    "\n",
    "    engine = sa.create_engine(conn_str)\n",
    "    \n",
    "    df.to_sql(\n",
    "        name=tbl_name,\n",
    "        con=engine,\n",
    "        if_exists=\"append\",\n",
    "        index=True,\n",
    "        method=\"multi\",\n",
    "        chunksize=5000\n",
    "        )\n",
    "    \n",
    "    engine.dispose()\n",
    "  \n",
    "    return df.shape"
   ]
  },
  {
   "cell_type": "markdown",
   "metadata": {},
   "source": [
    "Build a connection string using your own credentials for the db"
   ]
  },
  {
   "cell_type": "code",
   "execution_count": 56,
   "metadata": {},
   "outputs": [],
   "source": [
    "usr_nm = 'something'\n",
    "pwd = \"verysecret\"\n",
    "host = \"some_endpoint or ip\"\n",
    "db_nm = \"tst\"\n",
    "\n",
    "db_string = f\"postgres://{usr_nm}:{pwd}@{host}/{db_nm}\""
   ]
  },
  {
   "cell_type": "markdown",
   "metadata": {},
   "source": [
    "Run the function.  A new table with the imb data should now be inserted"
   ]
  },
  {
   "cell_type": "code",
   "execution_count": 51,
   "metadata": {},
   "outputs": [
    {
     "data": {
      "text/html": [
       "<div>\n",
       "<style scoped>\n",
       "    .dataframe tbody tr th:only-of-type {\n",
       "        vertical-align: middle;\n",
       "    }\n",
       "\n",
       "    .dataframe tbody tr th {\n",
       "        vertical-align: top;\n",
       "    }\n",
       "\n",
       "    .dataframe thead th {\n",
       "        text-align: right;\n",
       "    }\n",
       "</style>\n",
       "<table border=\"1\" class=\"dataframe\">\n",
       "  <thead>\n",
       "    <tr style=\"text-align: right;\">\n",
       "      <th></th>\n",
       "      <th></th>\n",
       "      <th>imbalance_side</th>\n",
       "      <th>imbalance_size</th>\n",
       "      <th>imbalance_reference_price</th>\n",
       "      <th>dlr_delta</th>\n",
       "    </tr>\n",
       "    <tr>\n",
       "      <th>moc_date</th>\n",
       "      <th>symbol</th>\n",
       "      <th></th>\n",
       "      <th></th>\n",
       "      <th></th>\n",
       "      <th></th>\n",
       "    </tr>\n",
       "  </thead>\n",
       "  <tbody>\n",
       "    <tr>\n",
       "      <th rowspan=\"2\" valign=\"top\">2020-04-29</th>\n",
       "      <th>AAV</th>\n",
       "      <td>BUY</td>\n",
       "      <td>34003</td>\n",
       "      <td>1.725</td>\n",
       "      <td>58655</td>\n",
       "    </tr>\n",
       "    <tr>\n",
       "      <th>ABX</th>\n",
       "      <td>BUY</td>\n",
       "      <td>460592</td>\n",
       "      <td>34.005</td>\n",
       "      <td>15662430</td>\n",
       "    </tr>\n",
       "  </tbody>\n",
       "</table>\n",
       "</div>"
      ],
      "text/plain": [
       "                  imbalance_side  imbalance_size  imbalance_reference_price  \\\n",
       "moc_date   symbol                                                             \n",
       "2020-04-29 AAV               BUY           34003                      1.725   \n",
       "           ABX               BUY          460592                     34.005   \n",
       "\n",
       "                   dlr_delta  \n",
       "moc_date   symbol             \n",
       "2020-04-29 AAV         58655  \n",
       "           ABX      15662430  "
      ]
     },
     "execution_count": 51,
     "metadata": {},
     "output_type": "execute_result"
    }
   ],
   "source": [
    "tranData = PrepareLoad()\n",
    "imb_df = tranData.run(tsx_imb_df)\n",
    "imb_df.head(2)"
   ]
  },
  {
   "cell_type": "code",
   "execution_count": 57,
   "metadata": {},
   "outputs": [
    {
     "data": {
      "text/plain": [
       "(389, 4)"
      ]
     },
     "execution_count": 57,
     "metadata": {},
     "output_type": "execute_result"
    }
   ],
   "source": [
    "df_shape = df_to_db(imb_df, tbl_name=\"moc_tst\", conn_str=s.get())\n",
    "df_shape"
   ]
  },
  {
   "cell_type": "markdown",
   "metadata": {},
   "source": [
    "## Stage 2 - Configuration and Orchestration for production"
   ]
  },
  {
   "attachments": {
    "41cfd786-48c5-4495-a53c-aeaf37ee28e0.png": {
     "image/png": "[encoded data removed]"
    },
    "85d6901e-5c58-4b4e-801b-3b262153b614.png": {
     "image/png": "[encoded data removed]"
    }
   },
   "cell_type": "markdown",
   "metadata": {},
   "source": [
    "Setting up the prefect config for deployment: \n",
    "\n",
    "1. In the terminal go to the prefect directory\n",
    "\n",
    "    cd ~\n",
    "    \n",
    "    cd .prefect\n",
    "2. Check if a config exists\n",
    "\n",
    "    ls\n",
    "\n",
    "    ![image.png](attachment:41cfd786-48c5-4495-a53c-aeaf37ee28e0.png)\n",
    "\n",
    "    If it does not exist:\n",
    "    \n",
    "    touch config.toml\n",
    "\n",
    "3. Open the file.\n",
    "\n",
    "    nano config.toml\n",
    "\n",
    "4. Get a cloud token from prefect\n",
    "\n",
    "5. Add the following configuration.  [prefect config](https://docs.prefect.io/core/concepts/configuration.html)\n",
    "  \n",
    " \n",
    "![image.png](attachment:85d6901e-5c58-4b4e-801b-3b262153b614.png)\n",
    "\n",
    "6. quit nano"
   ]
  },
  {
   "cell_type": "code",
   "execution_count": null,
   "metadata": {},
   "outputs": [],
   "source": []
  },
  {
   "cell_type": "markdown",
   "metadata": {},
   "source": [
    "Configuring the `get_tsx_moc_imb` to handle retries and saving its result to `s3`.\n",
    "- Add the `prefect` task decorator with [keyword configuration](https://docs.prefect.io/api/latest/core/task.html#task-2)."
   ]
  },
  {
   "cell_type": "code",
   "execution_count": 15,
   "metadata": {},
   "outputs": [],
   "source": [
    "from datetime import timedelta\n",
    "\n",
    "from prefect import task\n",
    "from prefect.engine.result_handlers import LocalResultHandler, S3ResultHandler\n",
    "\n",
    "s3_handler = S3ResultHandler(bucket='tsx-moc-bcp')  \n",
    "lcl_handler = LocalResultHandler()\n",
    "\n",
    "\n",
    "\n",
    "@task(\n",
    "    result_handler=s3_handler,\n",
    "    max_retries=3, \n",
    "    retry_delay=timedelta(seconds=0)\n",
    "    )\n",
    "def get_tsx_moc_imb(url: str):\n",
    "    \"\"\"\n",
    "    Scrape the TSX website Market on close website. Data only available weekdays after 15:40 pm Toronto time\n",
    "    until 12 am.\n",
    "    \n",
    "    Use archived url for testing.       \n",
    "    \"https://web.archive.org/web/20200414202757/https://api.tmxmoney.com/mocimbalance/en/TSX/moc.html\"\n",
    "    \"\"\"\n",
    "    \n",
    "    # 1, Get the html content\n",
    "    html = requests.get(url).content\n",
    "    \n",
    "    # 2. Read all the tables\n",
    "    df_list = pd.read_html(html, header=[0], na_values=[''], keep_default_na=False)\n",
    "    \n",
    "    tsx_imb_df = df_list[-1]\n",
    "    \n",
    "    logger.info(f\"MOC download shape {tsx_imb_df.shape}\")\n",
    "\n",
    "    return tsx_imb_df"
   ]
  },
  {
   "cell_type": "markdown",
   "metadata": {},
   "source": [
    "Notice the addition of the `run` method we've added"
   ]
  },
  {
   "cell_type": "code",
   "execution_count": 16,
   "metadata": {},
   "outputs": [
    {
     "data": {
      "text/html": [
       "<div>\n",
       "<style scoped>\n",
       "    .dataframe tbody tr th:only-of-type {\n",
       "        vertical-align: middle;\n",
       "    }\n",
       "\n",
       "    .dataframe tbody tr th {\n",
       "        vertical-align: top;\n",
       "    }\n",
       "\n",
       "    .dataframe thead th {\n",
       "        text-align: right;\n",
       "    }\n",
       "</style>\n",
       "<table border=\"1\" class=\"dataframe\">\n",
       "  <thead>\n",
       "    <tr style=\"text-align: right;\">\n",
       "      <th></th>\n",
       "      <th>Symbol</th>\n",
       "      <th>Imbalance Side</th>\n",
       "      <th>Imbalance Size</th>\n",
       "      <th>Imbalance Reference Price</th>\n",
       "    </tr>\n",
       "  </thead>\n",
       "  <tbody>\n",
       "    <tr>\n",
       "      <th>0</th>\n",
       "      <td>AAV</td>\n",
       "      <td>BUY</td>\n",
       "      <td>5043</td>\n",
       "      <td>2.295</td>\n",
       "    </tr>\n",
       "    <tr>\n",
       "      <th>1</th>\n",
       "      <td>ABX</td>\n",
       "      <td>BUY</td>\n",
       "      <td>149503</td>\n",
       "      <td>36.745</td>\n",
       "    </tr>\n",
       "    <tr>\n",
       "      <th>2</th>\n",
       "      <td>ACO.X</td>\n",
       "      <td>BUY</td>\n",
       "      <td>23905</td>\n",
       "      <td>40.410</td>\n",
       "    </tr>\n",
       "    <tr>\n",
       "      <th>3</th>\n",
       "      <td>ACQ</td>\n",
       "      <td>BUY</td>\n",
       "      <td>9800</td>\n",
       "      <td>6.720</td>\n",
       "    </tr>\n",
       "    <tr>\n",
       "      <th>4</th>\n",
       "      <td>ADN</td>\n",
       "      <td>BUY</td>\n",
       "      <td>102</td>\n",
       "      <td>14.110</td>\n",
       "    </tr>\n",
       "    <tr>\n",
       "      <th>...</th>\n",
       "      <td>...</td>\n",
       "      <td>...</td>\n",
       "      <td>...</td>\n",
       "      <td>...</td>\n",
       "    </tr>\n",
       "    <tr>\n",
       "      <th>412</th>\n",
       "      <td>WPM</td>\n",
       "      <td>SELL</td>\n",
       "      <td>66284</td>\n",
       "      <td>56.185</td>\n",
       "    </tr>\n",
       "    <tr>\n",
       "      <th>413</th>\n",
       "      <td>WTE</td>\n",
       "      <td>SELL</td>\n",
       "      <td>2871</td>\n",
       "      <td>14.965</td>\n",
       "    </tr>\n",
       "    <tr>\n",
       "      <th>414</th>\n",
       "      <td>X</td>\n",
       "      <td>SELL</td>\n",
       "      <td>2846</td>\n",
       "      <td>121.950</td>\n",
       "    </tr>\n",
       "    <tr>\n",
       "      <th>415</th>\n",
       "      <td>XAU</td>\n",
       "      <td>SELL</td>\n",
       "      <td>300</td>\n",
       "      <td>2.740</td>\n",
       "    </tr>\n",
       "    <tr>\n",
       "      <th>416</th>\n",
       "      <td>ZZZ</td>\n",
       "      <td>SELL</td>\n",
       "      <td>11052</td>\n",
       "      <td>13.735</td>\n",
       "    </tr>\n",
       "  </tbody>\n",
       "</table>\n",
       "<p>417 rows × 4 columns</p>\n",
       "</div>"
      ],
      "text/plain": [
       "    Symbol Imbalance Side  Imbalance Size  Imbalance Reference Price\n",
       "0      AAV            BUY            5043                      2.295\n",
       "1      ABX            BUY          149503                     36.745\n",
       "2    ACO.X            BUY           23905                     40.410\n",
       "3      ACQ            BUY            9800                      6.720\n",
       "4      ADN            BUY             102                     14.110\n",
       "..     ...            ...             ...                        ...\n",
       "412    WPM           SELL           66284                     56.185\n",
       "413    WTE           SELL            2871                     14.965\n",
       "414      X           SELL            2846                    121.950\n",
       "415    XAU           SELL             300                      2.740\n",
       "416    ZZZ           SELL           11052                     13.735\n",
       "\n",
       "[417 rows x 4 columns]"
      ]
     },
     "execution_count": 16,
     "metadata": {},
     "output_type": "execute_result"
    }
   ],
   "source": [
    "tsx_url = 'https://api.tmxmoney.com/mocimbalance/en/TSX/moc.html'\n",
    "backup_url = \"https://web.archive.org/web/20200414202757/https://api.tmxmoney.com/mocimbalance/en/TSX/moc.html\"\n",
    "\n",
    "tsx_imb_df = get_tsx_moc_imb.run(tsx_url)\n",
    "tsx_imb_df"
   ]
  },
  {
   "cell_type": "code",
   "execution_count": null,
   "metadata": {},
   "outputs": [],
   "source": []
  }
 ],
 "metadata": {
  "kernelspec": {
   "display_name": "Python 3",
   "language": "python",
   "name": "python3"
  },
  "language_info": {
   "codemirror_mode": {
    "name": "ipython",
    "version": 3
   },
   "file_extension": ".py",
   "mimetype": "text/x-python",
   "name": "python",
   "nbconvert_exporter": "python",
   "pygments_lexer": "ipython3",
   "version": "3.7.7"
  }
 },
 "nbformat": 4,
 "nbformat_minor": 4
}
