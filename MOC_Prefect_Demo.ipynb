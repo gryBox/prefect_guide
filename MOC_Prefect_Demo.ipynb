{
 "cells": [
  {
   "cell_type": "code",
   "execution_count": 40,
   "metadata": {},
   "outputs": [],
   "source": [
    "%load_ext autoreload"
   ]
  },
  {
   "cell_type": "code",
   "execution_count": 41,
   "metadata": {},
   "outputs": [],
   "source": [
    "%autoreload 2"
   ]
  },
  {
   "cell_type": "markdown",
   "metadata": {},
   "source": [
    "# Inroduction\n",
    "\n",
    "## A guide to develop and deploy a modern data pipeline to production infrastructure\n",
    "Using two three tasks this guide will go through the three principle stages nesscary to develop a modern data pipeline in python.  \n",
    "\n",
    "#### Pipeline tasks\n",
    "1. Extract MOC imbalance data from the TSX website\n",
    "2. Load the data into a `postgress` database\n",
    "\n",
    "In reality a pipeline will include other tasks that might: (1) Extract data from many sources at different time zones. (2) Prepare the data for analytics or prediction algorithm(s). (3) run multiple statistical experiments on decentralized infrastructure.\n",
    "\n",
    "Our motivating example is a toy ETL pipeline that extracs data from the Toronto Stock Exchange's Market on Close facilty website and loads into a database.  The data is published every trading day at 15:40 Toronto time and at midnight the table gets flushed out.\n",
    " \n",
    "\n",
    "### Principle stages and tools\n",
    "1.  Write the base code\n",
    "    - `requests` - extracting data.\n",
    "    - `pandas` - transforming and passing data.\n",
    "    - `psycopg2` for loading data to the db.\n",
    "2.  Implement task configuration and orchestration logic for individual tasks and the pipeline. i.e. error handling, execution logic\n",
    "    - `prefect` - orchestration, configuration, execution method i.e. dask or local, and scheduling\n",
    "3.  Deploy the flow to a compute enviroment. Local, self hosted or IaaS providor. In our case AWS\n",
    "    - `prefect` ,\n",
    "    - AWS `s3`, `ECR`, `Batch`\n",
    "\n",
    "### Requirements\n",
    "- An AWS account\n",
    "    - aws cli configured on the lcoal machine. [Instructions](https://docs.aws.amazon.com/cli/latest/userguide/cli-chap-configure.html)\n",
    "- postgres db - Remote lazy way: [Lightsail](https://aws.amazon.com/lightsail/) is free for a month, easy to setup and teardown for experiments. postgress or mysql.\n",
    "- Docker - [docker install](https://docs.docker.com/engine/install/#supported-platforms).  \n",
    "- graphviz - [download](https://www.graphviz.org/download/).  Choose your os.\n",
    "- python 3.7\n",
    "    - prefect - `pip install -U \"prefect[viz, aws]\"` See [prefect install](https://docs.prefect.io/core/getting_started/installation.html) for other possibilities\n",
    "    - The rest - `pip install requests pandas psycopg2 SQLAlchemy docker boto3 lxml, html5lib` `datetime`\n",
    "    "
   ]
  },
  {
   "cell_type": "markdown",
   "metadata": {},
   "source": [
    "## Base pipeline tasks\n",
    "Context - Our base code will live in a directory called `prefect_guide`. In one file called `get_moc.py`.  Both can be named any valid unix valid names."
   ]
  },
  {
   "cell_type": "markdown",
   "metadata": {},
   "source": [
    "### a. Extract MOC imbalance data from the TSX website\n",
    "\n",
    "The first task is to retrieve data from a table from the [TSX website](https://api.tmxmoney.com/mocimbalance/en/TSX/moc.html)  using `requests`.  The task returns and returns a `dataframe` with the MOC imbalances for the day. "
   ]
  },
  {
   "cell_type": "code",
   "execution_count": 42,
   "metadata": {},
   "outputs": [],
   "source": [
    "import pandas as pd\n",
    "import requests\n",
    "\n",
    "\n",
    "import logging\n",
    "logger = logging.getLogger()\n",
    "logger.setLevel(logging.INFO)\n",
    "\n",
    "def get_tsx_moc_imb(url: str):\n",
    "    \"\"\"\n",
    "    Scrape the TSX website Market on close website. Data only available weekdays after 15:40 pm Toronto time\n",
    "    until 12 am.\n",
    "    \n",
    "    Use archived url for testing.       \n",
    "    \"https://web.archive.org/web/20200414202757/https://api.tmxmoney.com/mocimbalance/en/TSX/moc.html\"\n",
    "    \"\"\"\n",
    "    \n",
    "    # 1, Get the html content\n",
    "    html = requests.get(url).content\n",
    "    \n",
    "    # 2. Read all the tables\n",
    "    df_list = pd.read_html(html, header=[0], na_values=[''], keep_default_na=False)\n",
    "    \n",
    "    tsx_imb_df = df_list[-1]\n",
    "    \n",
    "    logger.info(f\"MOC download shape {tsx_imb_df.shape}\")\n",
    "\n",
    "    return tsx_imb_df"
   ]
  },
  {
   "cell_type": "markdown",
   "metadata": {},
   "source": [
    "#### Run the function\n",
    "\n",
    "After running the function below the user will get one of three results: \n",
    "\n",
    "   1. A dataframe having a shape of `[num_rows > 1, 4]`\n",
    "   2. A dataframe having a shape of `[0, 4]`\n",
    "   3. Some connection error .i.e. `RemoteDisconnected`, ... \n",
    "\n",
    "No matter what result is returned, it will be handled later in the configuration and orchastration stage. But for the purposes of validating the next step use the `backup_url` given below "
   ]
  },
  {
   "cell_type": "code",
   "execution_count": 43,
   "metadata": {},
   "outputs": [
    {
     "name": "stdout",
     "output_type": "stream",
     "text": [
      "(389, 4)\n"
     ]
    },
    {
     "data": {
      "text/html": [
       "<div>\n",
       "<style scoped>\n",
       "    .dataframe tbody tr th:only-of-type {\n",
       "        vertical-align: middle;\n",
       "    }\n",
       "\n",
       "    .dataframe tbody tr th {\n",
       "        vertical-align: top;\n",
       "    }\n",
       "\n",
       "    .dataframe thead th {\n",
       "        text-align: right;\n",
       "    }\n",
       "</style>\n",
       "<table border=\"1\" class=\"dataframe\">\n",
       "  <thead>\n",
       "    <tr style=\"text-align: right;\">\n",
       "      <th></th>\n",
       "      <th>Symbol</th>\n",
       "      <th>Imbalance Side</th>\n",
       "      <th>Imbalance Size</th>\n",
       "      <th>Imbalance Reference Price</th>\n",
       "    </tr>\n",
       "  </thead>\n",
       "  <tbody>\n",
       "    <tr>\n",
       "      <th>0</th>\n",
       "      <td>AAV</td>\n",
       "      <td>BUY</td>\n",
       "      <td>34003</td>\n",
       "      <td>1.725</td>\n",
       "    </tr>\n",
       "    <tr>\n",
       "      <th>1</th>\n",
       "      <td>ABX</td>\n",
       "      <td>BUY</td>\n",
       "      <td>460592</td>\n",
       "      <td>34.005</td>\n",
       "    </tr>\n",
       "    <tr>\n",
       "      <th>2</th>\n",
       "      <td>ACB</td>\n",
       "      <td>BUY</td>\n",
       "      <td>211790</td>\n",
       "      <td>1.035</td>\n",
       "    </tr>\n",
       "  </tbody>\n",
       "</table>\n",
       "</div>"
      ],
      "text/plain": [
       "  Symbol Imbalance Side  Imbalance Size  Imbalance Reference Price\n",
       "0    AAV            BUY           34003                      1.725\n",
       "1    ABX            BUY          460592                     34.005\n",
       "2    ACB            BUY          211790                      1.035"
      ]
     },
     "execution_count": 43,
     "metadata": {},
     "output_type": "execute_result"
    }
   ],
   "source": [
    "tsx_url = 'https://api.tmxmoney.com/mocimbalance/en/TSX/moc.html'\n",
    "backup_url = \"https://web.archive.org/web/20200414202757/https://api.tmxmoney.com/mocimbalance/en/TSX/moc.html\"\n",
    "\n",
    "tsx_imb_df = get_tsx_moc_imb(backup_url)\n",
    "print(tsx_imb_df.shape)\n",
    "tsx_imb_df.head(3)  "
   ]
  },
  {
   "cell_type": "markdown",
   "metadata": {},
   "source": [
    "### b. Transform the imbalance data\n",
    "\n",
    "After extracting the data, its time to clean and add features to `tsx_moc_imb_df`. The only new library is `datetime`.\n",
    "1.  Clean data\n",
    "    - Convert column names to snake case.\n",
    "    - Take care of nans.\n",
    "        - When we extracted the data to the `df`, the `symbol` \"NA\" got converted to `nan`"
   ]
  },
  {
   "cell_type": "markdown",
   "metadata": {},
   "source": [
    "2.  Add features\n",
    "    - Date \n",
    "        - The TSX does not provide a date\n",
    "    - Dollar delta\n",
    "        - Multipy imbalamce size by imbalance_reference_price"
   ]
  },
  {
   "cell_type": "code",
   "execution_count": 44,
   "metadata": {},
   "outputs": [],
   "source": [
    "import datetime "
   ]
  },
  {
   "cell_type": "code",
   "execution_count": 50,
   "metadata": {},
   "outputs": [],
   "source": [
    "class PrepareLoad(object):\n",
    "    \"\"\"\n",
    "    A class to prepare loading tsx imbalances to the database\n",
    "    \"\"\"\n",
    "    \n",
    "    def __init__(\n",
    "        self,\n",
    "        symbol_clmn = \"symbol\" ,\n",
    "        date_clmn = \"moc_date\",\n",
    "        dollar_delta_clmn = \"dlr_delta\",\n",
    "        idx_clmn_lst = [\"moc_date\", \"symbol\"]\n",
    "        \n",
    "    ):\n",
    "        self.symbol_clmn = symbol_clmn\n",
    "        self.date_clmn = date_clmn\n",
    "        self.dollar_delta_clmn = dollar_delta_clmn\n",
    "        self.idx_clmn_lst = idx_clmn_lst\n",
    "        \n",
    "    def clean_data(self, df):\n",
    "        # snake case df columns\n",
    "        df.columns = [\"_\".join(nm.split()).lower() for nm in df.columns]\n",
    "        \n",
    "        # Handle the symbol NA  (There ae more robust ways to do this but for clarity this was chosen)\n",
    "        df.loc[df[self.symbol_clmn].isna()==True, self.symbol_clmn]= \"NA\"\n",
    "        \n",
    "        return df \n",
    "    \n",
    "    def add_features(self, df):\n",
    "        # The tsx does not supply a date with their moc data\n",
    "        df[self.date_clmn] = datetime.date.today()\n",
    "        \n",
    "        # Dollar delta feature\n",
    "        df[self.dollar_delta_clmn] = df[\"imbalance_size\"] * df[\"imbalance_reference_price\"]\n",
    "        df[self.dollar_delta_clmn] = df[self.dollar_delta_clmn].astype(int)\n",
    "        return df\n",
    "    \n",
    "    def run(self, df):\n",
    "        \n",
    "        cleaned_df =  self.clean_data(df)\n",
    "        imb_df = self.add_features(cleaned_df)\n",
    "        \n",
    "        # Set df index\n",
    "        imb_df = imb_df.set_index(self.idx_clmn_lst, drop=True, verify_integrity=True).copy()\n",
    "        \n",
    "        return imb_df"
   ]
  },
  {
   "cell_type": "markdown",
   "metadata": {},
   "source": [
    "Execute the `PrepareLoad()` `run` method.  The output will be a dataframe with two additional columns.  This is the data that is loaded to the db."
   ]
  },
  {
   "cell_type": "code",
   "execution_count": 51,
   "metadata": {},
   "outputs": [
    {
     "data": {
      "text/html": [
       "<div>\n",
       "<style scoped>\n",
       "    .dataframe tbody tr th:only-of-type {\n",
       "        vertical-align: middle;\n",
       "    }\n",
       "\n",
       "    .dataframe tbody tr th {\n",
       "        vertical-align: top;\n",
       "    }\n",
       "\n",
       "    .dataframe thead th {\n",
       "        text-align: right;\n",
       "    }\n",
       "</style>\n",
       "<table border=\"1\" class=\"dataframe\">\n",
       "  <thead>\n",
       "    <tr style=\"text-align: right;\">\n",
       "      <th></th>\n",
       "      <th></th>\n",
       "      <th>imbalance_side</th>\n",
       "      <th>imbalance_size</th>\n",
       "      <th>imbalance_reference_price</th>\n",
       "      <th>dlr_delta</th>\n",
       "    </tr>\n",
       "    <tr>\n",
       "      <th>moc_date</th>\n",
       "      <th>symbol</th>\n",
       "      <th></th>\n",
       "      <th></th>\n",
       "      <th></th>\n",
       "      <th></th>\n",
       "    </tr>\n",
       "  </thead>\n",
       "  <tbody>\n",
       "    <tr>\n",
       "      <th rowspan=\"2\" valign=\"top\">2020-04-29</th>\n",
       "      <th>AAV</th>\n",
       "      <td>BUY</td>\n",
       "      <td>34003</td>\n",
       "      <td>1.725</td>\n",
       "      <td>58655</td>\n",
       "    </tr>\n",
       "    <tr>\n",
       "      <th>ABX</th>\n",
       "      <td>BUY</td>\n",
       "      <td>460592</td>\n",
       "      <td>34.005</td>\n",
       "      <td>15662430</td>\n",
       "    </tr>\n",
       "  </tbody>\n",
       "</table>\n",
       "</div>"
      ],
      "text/plain": [
       "                  imbalance_side  imbalance_size  imbalance_reference_price  \\\n",
       "moc_date   symbol                                                             \n",
       "2020-04-29 AAV               BUY           34003                      1.725   \n",
       "           ABX               BUY          460592                     34.005   \n",
       "\n",
       "                   dlr_delta  \n",
       "moc_date   symbol             \n",
       "2020-04-29 AAV         58655  \n",
       "           ABX      15662430  "
      ]
     },
     "execution_count": 51,
     "metadata": {},
     "output_type": "execute_result"
    }
   ],
   "source": [
    "tranData = PrepareLoad()\n",
    "imb_df = tranData.run(tsx_imb_df)\n",
    "imb_df.head(2)"
   ]
  },
  {
   "cell_type": "markdown",
   "metadata": {},
   "source": [
    "### c. Load to database\n",
    "\n",
    "This task takes the transformed data as an input and loads the `imb_df` to a database using `sqlAlchemy`.  There are many ways to accomplish this goal, including some baked into `prefect`. But this is the simplest in terms of writing from a small `df`. "
   ]
  },
  {
   "cell_type": "code",
   "execution_count": 55,
   "metadata": {},
   "outputs": [],
   "source": [
    "import sqlalchemy as sa\n",
    "def df_to_db(df, tbl_name, conn_str):\n",
    "\n",
    "    engine = sa.create_engine(conn_str)\n",
    "    \n",
    "    df.to_sql(\n",
    "        name=tbl_name,\n",
    "        con=engine,\n",
    "        if_exists=\"append\",\n",
    "        index=True,\n",
    "        method=\"multi\",\n",
    "        chunksize=5000\n",
    "        )\n",
    "    \n",
    "    engine.dispose()\n",
    "  \n",
    "    return df.shape"
   ]
  },
  {
   "cell_type": "markdown",
   "metadata": {},
   "source": [
    "Build a connection string using your own credentials for the db"
   ]
  },
  {
   "cell_type": "code",
   "execution_count": 56,
   "metadata": {},
   "outputs": [],
   "source": [
    "usr_nm = 'something'\n",
    "pwd = \"verysecret\"\n",
    "host = \"some_endpoint or ip\"\n",
    "db_nm = \"tst\"\n",
    "\n",
    "db_string = f\"postgres://{usr_nm}:{pwd}@{host}/{db_nm}\""
   ]
  },
  {
   "cell_type": "markdown",
   "metadata": {},
   "source": [
    "Run the function.  A new table with the imb data should now be inserted"
   ]
  },
  {
   "cell_type": "code",
   "execution_count": 57,
   "metadata": {},
   "outputs": [
    {
     "data": {
      "text/plain": [
       "(389, 4)"
      ]
     },
     "execution_count": 57,
     "metadata": {},
     "output_type": "execute_result"
    }
   ],
   "source": [
    "df_shape = df_to_db(imb_df, tbl_name=\"moc_tst\", conn_str=s.get())\n",
    "df_shape"
   ]
  },
  {
   "cell_type": "markdown",
   "metadata": {},
   "source": [
    "## Stage 2 - Configuration and Orchestration\n",
    "Configure the tasks"
   ]
  },
  {
   "cell_type": "code",
   "execution_count": 58,
   "metadata": {},
   "outputs": [
    {
     "ename": "SyntaxError",
     "evalue": "invalid syntax (<ipython-input-58-b1480fb36f76>, line 1)",
     "output_type": "error",
     "traceback": [
      "\u001b[0;36m  File \u001b[0;32m\"<ipython-input-58-b1480fb36f76>\"\u001b[0;36m, line \u001b[0;32m1\u001b[0m\n\u001b[0;31m    Configure the tasks\u001b[0m\n\u001b[0m                ^\u001b[0m\n\u001b[0;31mSyntaxError\u001b[0m\u001b[0;31m:\u001b[0m invalid syntax\n"
     ]
    }
   ],
   "source": []
  },
  {
   "cell_type": "code",
   "execution_count": null,
   "metadata": {},
   "outputs": [],
   "source": []
  }
 ],
 "metadata": {
  "kernelspec": {
   "display_name": "Python 3",
   "language": "python",
   "name": "python3"
  },
  "language_info": {
   "codemirror_mode": {
    "name": "ipython",
    "version": 3
   },
   "file_extension": ".py",
   "mimetype": "text/x-python",
   "name": "python",
   "nbconvert_exporter": "python",
   "pygments_lexer": "ipython3",
   "version": "3.7.7"
  }
 },
 "nbformat": 4,
 "nbformat_minor": 4
}
