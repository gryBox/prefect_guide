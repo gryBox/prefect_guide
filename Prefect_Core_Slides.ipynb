{
 "cells": [
  {
   "cell_type": "code",
   "execution_count": null,
   "metadata": {
    "slideshow": {
     "slide_type": "skip"
    }
   },
   "outputs": [],
   "source": [
    "%load_ext autoreload"
   ]
  },
  {
   "cell_type": "code",
   "execution_count": null,
   "metadata": {
    "slideshow": {
     "slide_type": "skip"
    }
   },
   "outputs": [],
   "source": [
    "%autoreload 2"
   ]
  },
  {
   "cell_type": "markdown",
   "metadata": {
    "slideshow": {
     "slide_type": "skip"
    }
   },
   "source": [
    "#### Requirements\n",
    "- An AWS account\n",
    "    - aws cli configured on the lcoal machine. [Instructions](https://docs.aws.amazon.com/cli/latest/userguide/cli-chap-configure.html)\n",
    "- postgres db - Remote lazy way: [Lightsail](https://aws.amazon.com/lightsail/) is free for a month, easy to setup and teardown for experiments. postgress or mysql.\n",
    "- Docker - [docker install](https://docs.docker.com/engine/install/#supported-platforms).  \n",
    "- graphviz - [download](https://www.graphviz.org/download/).  Choose your os.\n",
    "- python 3.7\n",
    "    - prefect - `pip install -U \"prefect[viz, aws]\"` See [prefect install](https://docs.prefect.io/core/getting_started/installation.html) for other possibilities."
   ]
  },
  {
   "cell_type": "markdown",
   "metadata": {
    "slideshow": {
     "slide_type": "slide"
    }
   },
   "source": [
    "# Base Code\n",
    "\n",
    "1. Extract from the TSX website a table with the imbalances\n",
    "2. Preform an \"expensive\" transform\n",
    "3. Load data to a db"
   ]
  },
  {
   "cell_type": "markdown",
   "metadata": {
    "slideshow": {
     "slide_type": "subslide"
    }
   },
   "source": [
    "### Requirements"
   ]
  },
  {
   "cell_type": "code",
   "execution_count": 1,
   "metadata": {
    "slideshow": {
     "slide_type": "fragment"
    }
   },
   "outputs": [],
   "source": [
    "import requests\n",
    "import pandas as pd\n",
    "import numpy as np\n",
    "import sqlalchemy as sa\n",
    "\n",
    "from prefect.client import Secret\n",
    "\n",
    "\n",
    "import logging\n",
    "logger = logging.getLogger()\n",
    "logger.setLevel(logging.INFO)\n",
    "\n",
    "# Use backup url for test\n",
    "backup_url = \"https://web.archive.org/web/20200414202757/https://api.tmxmoney.com/mocimbalance/en/TSX/moc.html\""
   ]
  },
  {
   "cell_type": "markdown",
   "metadata": {
    "slideshow": {
     "slide_type": "subslide"
    }
   },
   "source": [
    "### 1. Scrape the TSX MOC website. \n",
    "Data is only available weekdays after 15:40 pm Toronto time until 12 am.\n",
    "Use archived url for testing.       \n",
    "- https://web.archive.org/web/20200414202757/https://api.tmxmoney.com/mocimbalance/en/TSX/moc.html"
   ]
  },
  {
   "cell_type": "code",
   "execution_count": 2,
   "metadata": {
    "slideshow": {
     "slide_type": "fragment"
    }
   },
   "outputs": [],
   "source": [
    "def get_tsx_moc_imb(url: str):\n",
    "\n",
    "    # 1, Get the html content\n",
    "    html = requests.get(url).content\n",
    "    \n",
    "    # 2. Read all the tables\n",
    "    df_list = pd.read_html(html, header=[0], na_values=[''], keep_default_na=False)\n",
    "    \n",
    "    tsx_imb_df = df_list[-1]\n",
    "    \n",
    "    logger.info(f\"MOC download shape {tsx_imb_df.shape}\")\n",
    "\n",
    "    return tsx_imb_df"
   ]
  },
  {
   "cell_type": "code",
   "execution_count": 3,
   "metadata": {
    "slideshow": {
     "slide_type": "subslide"
    }
   },
   "outputs": [
    {
     "name": "stdout",
     "output_type": "stream",
     "text": [
      "Number of Symbols (389, 4)\n"
     ]
    },
    {
     "data": {
      "text/html": [
       "<div>\n",
       "<style scoped>\n",
       "    .dataframe tbody tr th:only-of-type {\n",
       "        vertical-align: middle;\n",
       "    }\n",
       "\n",
       "    .dataframe tbody tr th {\n",
       "        vertical-align: top;\n",
       "    }\n",
       "\n",
       "    .dataframe thead th {\n",
       "        text-align: right;\n",
       "    }\n",
       "</style>\n",
       "<table border=\"1\" class=\"dataframe\">\n",
       "  <thead>\n",
       "    <tr style=\"text-align: right;\">\n",
       "      <th></th>\n",
       "      <th>Symbol</th>\n",
       "      <th>Imbalance Side</th>\n",
       "      <th>Imbalance Size</th>\n",
       "      <th>Imbalance Reference Price</th>\n",
       "    </tr>\n",
       "  </thead>\n",
       "  <tbody>\n",
       "    <tr>\n",
       "      <th>167</th>\n",
       "      <td>MNT</td>\n",
       "      <td>BUY</td>\n",
       "      <td>100</td>\n",
       "      <td>27.000</td>\n",
       "    </tr>\n",
       "    <tr>\n",
       "      <th>82</th>\n",
       "      <td>DRT</td>\n",
       "      <td>BUY</td>\n",
       "      <td>14299</td>\n",
       "      <td>1.405</td>\n",
       "    </tr>\n",
       "    <tr>\n",
       "      <th>304</th>\n",
       "      <td>BPY.UN</td>\n",
       "      <td>SELL</td>\n",
       "      <td>32374</td>\n",
       "      <td>14.305</td>\n",
       "    </tr>\n",
       "    <tr>\n",
       "      <th>162</th>\n",
       "      <td>MDNA</td>\n",
       "      <td>BUY</td>\n",
       "      <td>100</td>\n",
       "      <td>3.570</td>\n",
       "    </tr>\n",
       "  </tbody>\n",
       "</table>\n",
       "</div>"
      ],
      "text/plain": [
       "     Symbol Imbalance Side  Imbalance Size  Imbalance Reference Price\n",
       "167     MNT            BUY             100                     27.000\n",
       "82      DRT            BUY           14299                      1.405\n",
       "304  BPY.UN           SELL           32374                     14.305\n",
       "162    MDNA            BUY             100                      3.570"
      ]
     },
     "execution_count": 3,
     "metadata": {},
     "output_type": "execute_result"
    }
   ],
   "source": [
    "# Run the function to test\n",
    "tsx_imb_df = get_tsx_moc_imb(backup_url)\n",
    "print(f\"Number of Symbols {tsx_imb_df.shape}\")\n",
    "\n",
    "tsx_imb_df.sample(n=4)"
   ]
  },
  {
   "cell_type": "code",
   "execution_count": 6,
   "metadata": {},
   "outputs": [],
   "source": [
    "df_lst = np.array_split(tsx_imb_df, 2)"
   ]
  },
  {
   "cell_type": "code",
   "execution_count": 8,
   "metadata": {},
   "outputs": [
    {
     "data": {
      "text/html": [
       "<div>\n",
       "<style scoped>\n",
       "    .dataframe tbody tr th:only-of-type {\n",
       "        vertical-align: middle;\n",
       "    }\n",
       "\n",
       "    .dataframe tbody tr th {\n",
       "        vertical-align: top;\n",
       "    }\n",
       "\n",
       "    .dataframe thead th {\n",
       "        text-align: right;\n",
       "    }\n",
       "</style>\n",
       "<table border=\"1\" class=\"dataframe\">\n",
       "  <thead>\n",
       "    <tr style=\"text-align: right;\">\n",
       "      <th></th>\n",
       "      <th>Symbol</th>\n",
       "      <th>Imbalance Side</th>\n",
       "      <th>Imbalance Size</th>\n",
       "      <th>Imbalance Reference Price</th>\n",
       "    </tr>\n",
       "  </thead>\n",
       "  <tbody>\n",
       "    <tr>\n",
       "      <th>0</th>\n",
       "      <td>AAV</td>\n",
       "      <td>BUY</td>\n",
       "      <td>34003</td>\n",
       "      <td>1.725</td>\n",
       "    </tr>\n",
       "    <tr>\n",
       "      <th>1</th>\n",
       "      <td>ABX</td>\n",
       "      <td>BUY</td>\n",
       "      <td>460592</td>\n",
       "      <td>34.005</td>\n",
       "    </tr>\n",
       "    <tr>\n",
       "      <th>2</th>\n",
       "      <td>ACB</td>\n",
       "      <td>BUY</td>\n",
       "      <td>211790</td>\n",
       "      <td>1.035</td>\n",
       "    </tr>\n",
       "    <tr>\n",
       "      <th>3</th>\n",
       "      <td>AD</td>\n",
       "      <td>BUY</td>\n",
       "      <td>5204</td>\n",
       "      <td>9.575</td>\n",
       "    </tr>\n",
       "    <tr>\n",
       "      <th>4</th>\n",
       "      <td>ADN</td>\n",
       "      <td>BUY</td>\n",
       "      <td>100</td>\n",
       "      <td>13.215</td>\n",
       "    </tr>\n",
       "    <tr>\n",
       "      <th>...</th>\n",
       "      <td>...</td>\n",
       "      <td>...</td>\n",
       "      <td>...</td>\n",
       "      <td>...</td>\n",
       "    </tr>\n",
       "    <tr>\n",
       "      <th>190</th>\n",
       "      <td>OR</td>\n",
       "      <td>BUY</td>\n",
       "      <td>32006</td>\n",
       "      <td>11.800</td>\n",
       "    </tr>\n",
       "    <tr>\n",
       "      <th>191</th>\n",
       "      <td>OSB</td>\n",
       "      <td>BUY</td>\n",
       "      <td>3376</td>\n",
       "      <td>18.245</td>\n",
       "    </tr>\n",
       "    <tr>\n",
       "      <th>192</th>\n",
       "      <td>OSK</td>\n",
       "      <td>BUY</td>\n",
       "      <td>28502</td>\n",
       "      <td>3.375</td>\n",
       "    </tr>\n",
       "    <tr>\n",
       "      <th>193</th>\n",
       "      <td>OTEX</td>\n",
       "      <td>BUY</td>\n",
       "      <td>67355</td>\n",
       "      <td>52.105</td>\n",
       "    </tr>\n",
       "    <tr>\n",
       "      <th>194</th>\n",
       "      <td>OVV</td>\n",
       "      <td>BUY</td>\n",
       "      <td>3196</td>\n",
       "      <td>6.025</td>\n",
       "    </tr>\n",
       "  </tbody>\n",
       "</table>\n",
       "<p>195 rows × 4 columns</p>\n",
       "</div>"
      ],
      "text/plain": [
       "    Symbol Imbalance Side  Imbalance Size  Imbalance Reference Price\n",
       "0      AAV            BUY           34003                      1.725\n",
       "1      ABX            BUY          460592                     34.005\n",
       "2      ACB            BUY          211790                      1.035\n",
       "3       AD            BUY            5204                      9.575\n",
       "4      ADN            BUY             100                     13.215\n",
       "..     ...            ...             ...                        ...\n",
       "190     OR            BUY           32006                     11.800\n",
       "191    OSB            BUY            3376                     18.245\n",
       "192    OSK            BUY           28502                      3.375\n",
       "193   OTEX            BUY           67355                     52.105\n",
       "194    OVV            BUY            3196                      6.025\n",
       "\n",
       "[195 rows x 4 columns]"
      ]
     },
     "execution_count": 8,
     "metadata": {},
     "output_type": "execute_result"
    }
   ],
   "source": [
    "df_lst[0]"
   ]
  },
  {
   "cell_type": "markdown",
   "metadata": {
    "slideshow": {
     "slide_type": "subslide"
    }
   },
   "source": [
    "### 2. Transform\n",
    "- Rename some columns\n",
    "- Add a column with imbalance side as  1, -1\n",
    "- Calculate dollar delta"
   ]
  },
  {
   "cell_type": "code",
   "execution_count": 4,
   "metadata": {
    "slideshow": {
     "slide_type": "fragment"
    }
   },
   "outputs": [],
   "source": [
    "def add_imb_features(tsx_imb_df):\n",
    "    # rename columns\n",
    "    tsx_imb_df.rename(columns=lambda clm_nm: clm_nm.replace(\" \", \"_\").lower(), inplace=True)\n",
    "    \n",
    "    # Convert the imbalance side to 1 and -1\n",
    "    tsx_imb_df[\"imb_side_enc\"] = np.where(tsx_imb_df['imbalance_side']==\"BUY\", 1, -1)\n",
    "\n",
    "    return tsx_imb_df"
   ]
  },
  {
   "cell_type": "code",
   "execution_count": 7,
   "metadata": {
    "slideshow": {
     "slide_type": "subslide"
    }
   },
   "outputs": [
    {
     "data": {
      "text/html": [
       "<div>\n",
       "<style scoped>\n",
       "    .dataframe tbody tr th:only-of-type {\n",
       "        vertical-align: middle;\n",
       "    }\n",
       "\n",
       "    .dataframe tbody tr th {\n",
       "        vertical-align: top;\n",
       "    }\n",
       "\n",
       "    .dataframe thead th {\n",
       "        text-align: right;\n",
       "    }\n",
       "</style>\n",
       "<table border=\"1\" class=\"dataframe\">\n",
       "  <thead>\n",
       "    <tr style=\"text-align: right;\">\n",
       "      <th></th>\n",
       "      <th>symbol</th>\n",
       "      <th>imbalance_side</th>\n",
       "      <th>imbalance_size</th>\n",
       "      <th>imbalance_reference_price</th>\n",
       "      <th>imb_side_enc</th>\n",
       "    </tr>\n",
       "  </thead>\n",
       "  <tbody>\n",
       "    <tr>\n",
       "      <th>223</th>\n",
       "      <td>SII</td>\n",
       "      <td>BUY</td>\n",
       "      <td>34634</td>\n",
       "      <td>3.045</td>\n",
       "      <td>1</td>\n",
       "    </tr>\n",
       "    <tr>\n",
       "      <th>3</th>\n",
       "      <td>AD</td>\n",
       "      <td>BUY</td>\n",
       "      <td>5204</td>\n",
       "      <td>9.575</td>\n",
       "      <td>1</td>\n",
       "    </tr>\n",
       "    <tr>\n",
       "      <th>161</th>\n",
       "      <td>MDI</td>\n",
       "      <td>BUY</td>\n",
       "      <td>13621</td>\n",
       "      <td>3.595</td>\n",
       "      <td>1</td>\n",
       "    </tr>\n",
       "    <tr>\n",
       "      <th>382</th>\n",
       "      <td>VET</td>\n",
       "      <td>SELL</td>\n",
       "      <td>6539</td>\n",
       "      <td>5.945</td>\n",
       "      <td>-1</td>\n",
       "    </tr>\n",
       "  </tbody>\n",
       "</table>\n",
       "</div>"
      ],
      "text/plain": [
       "    symbol imbalance_side  imbalance_size  imbalance_reference_price  \\\n",
       "223    SII            BUY           34634                      3.045   \n",
       "3       AD            BUY            5204                      9.575   \n",
       "161    MDI            BUY           13621                      3.595   \n",
       "382    VET           SELL            6539                      5.945   \n",
       "\n",
       "     imb_side_enc  \n",
       "223             1  \n",
       "3               1  \n",
       "161             1  \n",
       "382            -1  "
      ]
     },
     "execution_count": 7,
     "metadata": {},
     "output_type": "execute_result"
    }
   ],
   "source": [
    "# Run the transform\n",
    "\n",
    "trans_df = add_imb_features(tsx_imb_df)\n",
    "trans_df.sample(n=4)"
   ]
  },
  {
   "cell_type": "markdown",
   "metadata": {
    "slideshow": {
     "slide_type": "subslide"
    }
   },
   "source": [
    "### 3. Load data to db\n",
    "- The secret connection string is hosted it with the `prefect server` hosted by `prefect`. \n",
    " - You can also [host your own server](https://medium.com/the-prefect-blog/open-sourcing-the-prefect-platform-d19a6d6f6dad)\n",
    "- You can store your secrets using: \n",
    "  - `client.set_secret(name=\"my secret\", value=42)`\n",
    " - Other possiilities include:env variables, `./prefect.config.toml` \n",
    " - [Start here](https://docs.prefect.io/orchestration/concepts/secrets.html#setting-a-secret) [Core explanation](https://docs.prefect.io/api/latest/client/secrets.html#secret) "
   ]
  },
  {
   "cell_type": "code",
   "execution_count": null,
   "metadata": {
    "slideshow": {
     "slide_type": "subslide"
    }
   },
   "outputs": [],
   "source": [
    "def df_to_db(df, tbl_name, conn_str):\n",
    "\n",
    "    engine = sa.create_engine(conn_str)\n",
    "    \n",
    "    df.to_sql(\n",
    "        name=tbl_name,\n",
    "        con=engine,\n",
    "        if_exists=\"append\",\n",
    "        index=True,\n",
    "        method=\"multi\"\n",
    "        )\n",
    "    \n",
    "    engine.dispose()\n",
    "  \n",
    "    return df.shape"
   ]
  },
  {
   "cell_type": "code",
   "execution_count": null,
   "metadata": {
    "slideshow": {
     "slide_type": "fragment"
    }
   },
   "outputs": [],
   "source": [
    "conn_str = Secret(\"moc_pgdb_conn\").get()\n",
    "tbl_name = \"moc_tst\"\n",
    "\n",
    "insert_shape = df_to_db(trans_df, tbl_name, conn_str)"
   ]
  },
  {
   "cell_type": "markdown",
   "metadata": {
    "slideshow": {
     "slide_type": "fragment"
    }
   },
   "source": [
    "### With the base code written it's time to configure the tasks.\n",
    "In a more realistic development workflow tasks would be configured and added to a `Flow` incrementally."
   ]
  },
  {
   "cell_type": "markdown",
   "metadata": {
    "slideshow": {
     "slide_type": "slide"
    }
   },
   "source": [
    "## Configuration\n",
    "This is done by adding the `@task` decorator to each of our functions with the configurations we need.  For a full list of options see [here](https://docs.prefect.io/api/latest/core/task.html#task)\n",
    "\n",
    "The code above is starting to take shape and its time to take care of some error handling and our scraping constraints.\n",
    "- For example:\n",
    "    - Expensive to run tasks or any task that needs to be cached.  \n",
    "    - result handling \n",
    "\n",
    "From here on: functions and classes are called `tasks`, Pipelines/Workflows/Scripts are `Flows`"
   ]
  },
  {
   "cell_type": "code",
   "execution_count": null,
   "metadata": {
    "slideshow": {
     "slide_type": "fragment"
    }
   },
   "outputs": [],
   "source": [
    "# New requirements\n",
    "from datetime import timedelta\n",
    "\n",
    "import prefect\n",
    "from prefect import task"
   ]
  },
  {
   "cell_type": "markdown",
   "metadata": {
    "slideshow": {
     "slide_type": "slide"
    }
   },
   "source": [
    "### 1.  Configuring the scrape function\n",
    "`@task(...)`\n",
    "\n",
    "Configurations - All of these are optional\n",
    "- `max_retries`- Number of retries to handle a *failed [state](https://docs.prefect.io/api/latest/engine/state.html#state)*.\n",
    "\n",
    "> State is the main currency in the Prefect platform. It is used to represent the current status of a flow or task\n",
    "\n",
    "- `retry_delay` - How long to wait before a retry. `datetime.timedelta(...)`\n",
    "\n",
    "- `result` - Where to save the task's result. (`LocalResult`, `S3Result`, [more](https://docs.prefect.io/api/latest/engine/results.html#result-subclasses)).  \n",
    "\n",
    "- `target` - Cache results.  A string `tatget` .i.e. `\"{task_name}-{today}\"` that gets checked before the task is run. If the `target` string exists at the `result` location it will not be run.\n",
    "\n",
    ">  cache tasks based on the presence of persisted data, such as a file on local disk or in cloud storage\n",
    "\n",
    " - Powerfull but dangerous if a develoer leaves an unintended `target`.\n",
    "\n",
    "- `state_handlers` - How to handle the `task` behaviour as it moves between states. `Pending`, `Running`, `Success`, `Failed`, `Finished`.\n",
    " - There can be nultiple handlers for each task or the same handler for many tasks.\n",
    " - In our case the first task requires two:\n",
    "     - `imb_handler` Sets a state to `is_failed` when extractng an empty dataframe from the TSX. This happens if the data is scraped before 15:40 and after 24:00 EST or no MOC was published to the website. (Used only in this task)\n",
    "     - `error_handler` - Handle all the unhandled exceptions. It raises a `SKIP` `signal` when any of the tasks fails.  This ensures that any tasks in our flow will not run if the upstream task failed.  The default configuration in `task` is `skip_on_upstream_skip=True`."
   ]
  },
  {
   "cell_type": "markdown",
   "metadata": {
    "slideshow": {
     "slide_type": "subslide"
    }
   },
   "source": [
    "### State Handlers"
   ]
  },
  {
   "cell_type": "markdown",
   "metadata": {
    "slideshow": {
     "slide_type": "fragment"
    }
   },
   "source": [
    "Additional requirement"
   ]
  },
  {
   "cell_type": "code",
   "execution_count": null,
   "metadata": {
    "slideshow": {
     "slide_type": "fragment"
    }
   },
   "outputs": [],
   "source": [
    "from prefect.engine.state import Success, Failed, Skipped\n",
    "from prefect.engine import signals\n",
    "from prefect.engine.results import S3Result, LocalResult"
   ]
  },
  {
   "cell_type": "code",
   "execution_count": null,
   "metadata": {
    "slideshow": {
     "slide_type": "subslide"
    }
   },
   "outputs": [],
   "source": [
    "@task(\n",
    "    max_retries=3,\n",
    "    retry_delay=timedelta(seconds=1), # In production this will be change to 20 minutes\n",
    "    target=\"{task_name}-{today}.prefect\",\n",
    "    result=tsx_imb_res, # S3Result(bucket=\"tsx-moc-bcp/{task_name}-{today}\"), \n",
    "    state_handlers=[imb_handler, error_handler]\n",
    ")\n",
    "def get_tsx_moc_imb(url: str):\n",
    "    \n",
    "    # Pefect logger added.  See https://docs.prefect.io/core/idioms/logging.html#logging-from-within-tasks\n",
    "    #logger = prefect.context.get(\"logger\") # (Error: jupyter notebook?)\n",
    "    \n",
    "    #raise Exception\n",
    "    \n",
    "    # 1, Get the html content\n",
    "    html = requests.get(url).content\n",
    "    \n",
    "    # 2. Read all the tables\n",
    "    df_list = pd.read_html(html, header=[0], na_values=[''], keep_default_na=False)\n",
    "    \n",
    "    tsx_imb_df = df_list[-1]\n",
    "    \n",
    "    logger.info(f\"MOC download shape {tsx_imb_df.shape}\")\n",
    "\n",
    "    return tsx_imb_df"
   ]
  },
  {
   "cell_type": "markdown",
   "metadata": {
    "slideshow": {
     "slide_type": "fragment"
    }
   },
   "source": [
    "- To run the the function `.run` is used.  \n",
    "- None of the configurations take hold until we orchastrate the tasks."
   ]
  },
  {
   "cell_type": "code",
   "execution_count": null,
   "metadata": {
    "slideshow": {
     "slide_type": "fragment"
    }
   },
   "outputs": [],
   "source": [
    "# Run the function to test\n",
    "tsx_imb_df = get_tsx_moc_imb.run(backup_url)\n",
    "print(f\"Number of Symbols {tsx_imb_df.shape}\")\n",
    "\n",
    "tsx_imb_df.sample(n=4)"
   ]
  },
  {
   "cell_type": "markdown",
   "metadata": {
    "slideshow": {
     "slide_type": "slide"
    }
   },
   "source": [
    "### Testing the first `task` in a `Flow`\n",
    "\n",
    "At the most basic level a [`Flow`](https://docs.prefect.io/api/latest/core/flow.html#flow-2) is where the realtionship betwee tasks is defined. \n",
    "\n",
    "> The Flow class is used as the representation of a collection of dependent Tasks. Flows track Task dependencies, parameters and provide the main API for constructing and managing workflows.\n",
    "\n",
    "\n",
    "Like a `task` they have their own configuration. (Partial List)\n",
    "- `name` - The name of the flow. (Required, all the others are optionsl)\n",
    "- `schedule` - A scheduled time to run the flow. (big difference between Airflow and prefect)\n",
    "- `storage` - `Local`, `Docker`, `s3`, [more](https://docs.prefect.io/orchestration/execution/storage_options.html#storage-options)\n",
    "\n",
    "> Storage objects provide a way to save and retrieve Flows...\n",
    "\n",
    "    Useful for deployment or when using prefect server along with an [`Agent`](https://docs.prefect.io/orchestration/agents/overview.html) to monitor  and restart `Flows`.\n",
    "- `environment` - How and where to `run` the `Flow`.\n",
    "\n",
    "> ... how your Flow should be run e.g., which executor to and whether there are any auxiliary infrastructure requirements for your Flow's *execution*.  if you want to run your Flow on Kubernetes using an auto-scaling Dask cluster then you're going to want to use an environment for that!\n",
    "\n",
    "   - The [`executor`](https://docs.prefect.io/api/latest/engine/executors.html#executor), (`LocalExecutor`, `LocalDaskExecutor`, `DaskExecutor`) can be set within the `enviroment` keyword argument or the  Flow's keyword argument.\n",
    "   \n",
    "   > Prefect Executors implement the logic for how Tasks are run\n",
    "  \n",
    "   \n",
    "- In this example `storage` and `enviroment` are local so no configuration is needed.\n",
    "\n",
    "Finally Flows accept [`Parameters`](https://docs.prefect.io/core/concepts/parameters.html#parameters)\n",
    "\n",
    "> Parameters are special tasks that can receive user inputs whenever a flow is run. Setting a default is optional."
   ]
  },
  {
   "cell_type": "markdown",
   "metadata": {
    "slideshow": {
     "slide_type": "subslide"
    }
   },
   "source": [
    "Additional requirement"
   ]
  },
  {
   "cell_type": "code",
   "execution_count": null,
   "metadata": {
    "slideshow": {
     "slide_type": "fragment"
    }
   },
   "outputs": [],
   "source": [
    "from prefect import Flow, Parameter\n",
    "from prefect.engine.results import S3Result"
   ]
  },
  {
   "cell_type": "code",
   "execution_count": null,
   "metadata": {
    "slideshow": {
     "slide_type": "fragment"
    }
   },
   "outputs": [],
   "source": [
    "with Flow(\"Our first flow\") as tst_flow:\n",
    "    \n",
    "    tsx_url = Parameter(\"tsx_url\", default=\"https://api.tmxmoney.com/mocimbalance/en/TSX/moc.html\")\n",
    "    \n",
    "    tsx_imb_df = get_tsx_moc_imb(tsx_url)"
   ]
  },
  {
   "cell_type": "markdown",
   "metadata": {
    "slideshow": {
     "slide_type": "fragment"
    }
   },
   "source": [
    "Before running the flow can be visualized.\n",
    "- Optional [`visualize` arguments](https://docs.prefect.io/api/latest/core/flow.html#flow-2).  At the bottom of the page"
   ]
  },
  {
   "cell_type": "code",
   "execution_count": null,
   "metadata": {
    "slideshow": {
     "slide_type": "fragment"
    }
   },
   "outputs": [],
   "source": [
    "tst_flow.visualize()"
   ]
  },
  {
   "attachments": {
    "image.png": {
     "image/png": "[encoded data removed]"
    },
    "serverUI_gnatt.png": {
     "image/png": "[encoded data removed]"
    }
   },
   "cell_type": "markdown",
   "metadata": {
    "slideshow": {
     "slide_type": "subslide"
    }
   },
   "source": [
    "### Running the Flow\n",
    "\n",
    "- Like `task`, the `Flow` is executed using the `run` method.\n",
    "- As the flow is running the `prefect logger` output the `state` of the `task` in the flow. ` Success`, `Failed`, ` Skipped`. This is useful for debugging.\n",
    "- If a `Flow` is run with a dask executor the order of execution is not insured other than binded tasks/nodes.\n",
    "- Post `run` the `Flow` can be visualized by capturing its states\n",
    " - `tst_flow.visualize(flow_state=<fl_states>)`\n",
    "  - ![image.png](attachment:image.png)\n",
    " - By *registeriing* the `Flow` with `prefect server`  ([managed](https://www.prefect.io/pricing), [open source](https://docs.prefect.io/orchestration/tutorial/configure.html#spin-up-prefect-core-s-server)) and initializing an [`Agent`](https://docs.prefect.io/orchestration/agents/overview.html) additional analytics are available. \n",
    " \n",
    "![serverUI_gnatt.png](attachment:serverUI_gnatt.png)"
   ]
  },
  {
   "cell_type": "code",
   "execution_count": 8,
   "metadata": {
    "slideshow": {
     "slide_type": "fragment"
    }
   },
   "outputs": [
    {
     "ename": "NameError",
     "evalue": "name 'tst_flow' is not defined",
     "output_type": "error",
     "traceback": [
      "\u001b[0;31m---------------------------------------------------------------------------\u001b[0m",
      "\u001b[0;31mNameError\u001b[0m                                 Traceback (most recent call last)",
      "\u001b[0;32m<ipython-input-8-301bbddf8ec8>\u001b[0m in \u001b[0;36m<module>\u001b[0;34m\u001b[0m\n\u001b[0;32m----> 1\u001b[0;31m fl_states = tst_flow.run(\n\u001b[0m\u001b[1;32m      2\u001b[0m     \u001b[0mparameters\u001b[0m\u001b[0;34m=\u001b[0m\u001b[0;34m{\u001b[0m\u001b[0;34m\"tsx_url\"\u001b[0m\u001b[0;34m:\u001b[0m\u001b[0mbackup_url\u001b[0m\u001b[0;34m}\u001b[0m\u001b[0;34m\u001b[0m\u001b[0;34m\u001b[0m\u001b[0m\n\u001b[1;32m      3\u001b[0m )\n",
      "\u001b[0;31mNameError\u001b[0m: name 'tst_flow' is not defined"
     ]
    }
   ],
   "source": [
    "fl_states = tst_flow.run(\n",
    "    parameters={\"tsx_url\":backup_url}\n",
    ")"
   ]
  },
  {
   "cell_type": "code",
   "execution_count": null,
   "metadata": {
    "slideshow": {
     "slide_type": "subslide"
    }
   },
   "outputs": [],
   "source": [
    "# Initialize where to store task results\n",
    "#tsx_imb_res = S3Result(bucket=\"tsx-moc-bcp\")\n",
    "tsx_imb_res = LocalResult(dir=\"~/MOC/moc_res\")\n",
    "def error_handler(obj, old_state, new_state):\n",
    "    \n",
    "    if new_state.is_failed():\n",
    "        # # Sends a slack notification to system errors in the tapnotion slack channel\n",
    "        #         s = Secret(\"system_errors\") # create a secret object\n",
    "        #         slack_web_hook_url = s.get() # retrieve its value\n",
    "\n",
    "        #         msg = f\"Task '{obj.name}' finished in state {new_state.message}\"\n",
    "        # replace URL with your Slack webhook URL\n",
    "        # requests.post(slack_web_hook_url, json={\"text\": msg})\n",
    "        \n",
    "        raise signals.SKIP(message='skipping!')\n",
    "        return_state = Failed(\"Failed\")\n",
    "                              \n",
    "        \n",
    "    else:\n",
    "        return_state = new_state   \n",
    "        \n",
    "    return return_state\n",
    "\n",
    "def imb_handler(obj, old_state, new_state):\n",
    "    # Hamdle an empty dataframe to return a fail message.  \n",
    "    # The result of a succesfull \n",
    "    if isinstance(new_state, Success) and new_state.result.empty:\n",
    "        return_state = Failed(\n",
    "            message=f\"No tsx imbalance data: No trading or Data was not published to {new_state.cached_inputs['url']}\", \n",
    "            result=new_state.result\n",
    "            )        \n",
    "    else:\n",
    "        return_state = new_state   \n",
    "\n",
    "    return return_state"
   ]
  },
  {
   "cell_type": "code",
   "execution_count": null,
   "metadata": {
    "slideshow": {
     "slide_type": "fragment"
    }
   },
   "outputs": [],
   "source": [
    "tst_flow.visualize(flow_state=fl_states)"
   ]
  },
  {
   "cell_type": "markdown",
   "metadata": {},
   "source": [
    "# Putting it all together\n",
    "- All three tasks configured in a flow with local execution"
   ]
  },
  {
   "cell_type": "code",
   "execution_count": null,
   "metadata": {},
   "outputs": [],
   "source": [
    "import requests\n",
    "import pandas as pd\n",
    "import numpy as np\n",
    "import sqlalchemy as sa\n",
    "\n",
    "from prefect.client import Secret\n",
    "\n",
    "\n",
    "import logging\n",
    "logger = logging.getLogger()\n",
    "logger.setLevel(logging.INFO)\n",
    "\n",
    "backup_url = \"https://web.archive.org/web/20200414202757/https://api.tmxmoney.com/mocimbalance/en/TSX/moc.html\""
   ]
  },
  {
   "cell_type": "code",
   "execution_count": null,
   "metadata": {},
   "outputs": [],
   "source": [
    "fl_states = tst_flow.run(\n",
    "    parameters={\"tsx_url\":backup_url}\n",
    ")\n",
    "\n",
    "tst_flow.visualize(flow_state=fl_states)"
   ]
  },
  {
   "cell_type": "markdown",
   "metadata": {
    "slideshow": {
     "slide_type": "subslide"
    }
   },
   "source": [
    "### Configuration Validation "
   ]
  },
  {
   "cell_type": "code",
   "execution_count": null,
   "metadata": {
    "slideshow": {
     "slide_type": "fragment"
    }
   },
   "outputs": [],
   "source": [
    "# Initialize where to store task results\n",
    "#tsx_imb_res = S3Result(bucket=\"tsx-moc-bcp\")\n",
    "tsx_imb_res = LocalResult(dir=\"~/MOC/moc_res\")\n",
    "def error_handler(obj, old_state, new_state):\n",
    "    \n",
    "    if new_state.is_failed():\n",
    "        # # Sends a slack notification to system errors in the tapnotion slack channel\n",
    "        #         s = Secret(\"system_errors\") # create a secret object\n",
    "        #         slack_web_hook_url = s.get() # retrieve its value\n",
    "\n",
    "        #         msg = f\"Task '{obj.name}' finished in state {new_state.message}\"\n",
    "        # replace URL with your Slack webhook URL\n",
    "        # requests.post(slack_web_hook_url, json={\"text\": msg})\n",
    "        \n",
    "        raise signals.SKIP(message='skipping!')\n",
    "        return_state = Failed(\"Failed\")\n",
    "                              \n",
    "        \n",
    "    else:\n",
    "        return_state = new_state   \n",
    "        \n",
    "    return return_state\n",
    "\n",
    "def imb_handler(obj, old_state, new_state):\n",
    "    # Hamdle an empty dataframe to return a fail message.  \n",
    "    # The result of a succesfull \n",
    "    if isinstance(new_state, Success) and new_state.result.empty:\n",
    "        return_state = Failed(\n",
    "            message=f\"No tsx imbalance data: No trading or Data was not published to {new_state.cached_inputs['url']}\", \n",
    "            result=new_state.result\n",
    "            )        \n",
    "    else:\n",
    "        return_state = new_state   \n",
    "\n",
    "    return return_state\n",
    "\n",
    "\n",
    "\n",
    "\n",
    "\n",
    "@task(\n",
    "    max_retries=3,\n",
    "    retry_delay=timedelta(seconds=1), # In production this will be change to 20 minutes\n",
    "    target=\"{task_name}-{today}.prefect\",\n",
    "    result=tsx_imb_res, # S3Result(bucket=\"tsx-moc-bcp/{task_name}-{today}\"), \n",
    "    state_handlers=[imb_handler, error_handler]\n",
    ")\n",
    "def get_tsx_moc_imb(url: str):\n",
    "    \n",
    "    # Pefect logger added.  See https://docs.prefect.io/core/idioms/logging.html#logging-from-within-tasks\n",
    "    #logger = prefect.context.get(\"logger\") # (Error: jupyter notebook?)\n",
    "    \n",
    "    raise 1/0\n",
    "    \n",
    "    # 1, Get the html content\n",
    "    html = requests.get(url).content\n",
    "    \n",
    "    # 2. Read all the tables\n",
    "    df_list = pd.read_html(html, header=[0], na_values=[''], keep_default_na=False)\n",
    "    \n",
    "    tsx_imb_df = df_list[-1]\n",
    "    \n",
    "    logger.info(f\"MOC download shape {tsx_imb_df.shape}\")\n",
    "\n",
    "    return tsx_imb_df\n",
    "\n",
    "@task\n",
    "def add_imb_features(tsx_imb_df):\n",
    "    # rename columns\n",
    "    tsx_imb_df.rename(columns=lambda clm_nm: clm_nm.replace(\" \", \"_\").lower(), inplace=True)\n",
    "    \n",
    "    # Convert string to\n",
    "    tsx_imb_df[\"imb_side_enc\"] = np.where(tsx_imb_df['imbalance_side']==\"BUY\", 1, 0)\n",
    "\n",
    "    return tsx_imb_df\n",
    "\n",
    "\n"
   ]
  },
  {
   "cell_type": "markdown",
   "metadata": {
    "slideshow": {
     "slide_type": "subslide"
    }
   },
   "source": [
    "### Rerun the flow"
   ]
  },
  {
   "cell_type": "code",
   "execution_count": null,
   "metadata": {
    "slideshow": {
     "slide_type": "fragment"
    }
   },
   "outputs": [],
   "source": [
    "with Flow(\"Our first flow\") as tst_flow:\n",
    "    \n",
    "    tsx_url = Parameter(\"tsx_url\", default=\"https://api.tmxmoney.com/mocimbalance/en/TSX/moc.html\")\n",
    "    \n",
    "    tsx_imb_df = get_tsx_moc_imb(tsx_url)"
   ]
  },
  {
   "cell_type": "code",
   "execution_count": null,
   "metadata": {
    "slideshow": {
     "slide_type": "fragment"
    }
   },
   "outputs": [],
   "source": [
    "fl_states = tst_flow.run(\n",
    "    parameters={\"tsx_url\":backup_url}\n",
    ")\n",
    "tst_flow.visualize(flow_state=fl_states)"
   ]
  },
  {
   "cell_type": "code",
   "execution_count": null,
   "metadata": {},
   "outputs": [],
   "source": []
  },
  {
   "cell_type": "markdown",
   "metadata": {},
   "source": [
    "Prefect is not limited to the number of tasks. Even shell script can be a task. As such complex transformations can be used from other languages simply by calling the shell as a task"
   ]
  },
  {
   "cell_type": "code",
   "execution_count": null,
   "metadata": {},
   "outputs": [],
   "source": []
  },
  {
   "cell_type": "code",
   "execution_count": null,
   "metadata": {},
   "outputs": [],
   "source": []
  },
  {
   "cell_type": "markdown",
   "metadata": {},
   "source": [
    "## What is nice about this?\n",
    "### - Flows and task logic can be examined. \n",
    "### -  Pipeline requirements are explicit.\n",
    " - Making requirements and implementation decisions well understood to maintainer(s).\n",
    " \n",
    "### - The pipeline can scale with the development workflow. "
   ]
  },
  {
   "cell_type": "code",
   "execution_count": null,
   "metadata": {},
   "outputs": [],
   "source": [
    "tsx_url = 'https://api.tmxmoney.com/mocimbalance/en/TSX/moc.html'\n",
    "backup_url = \"https://web.archive.org/web/20200414202757/https://api.tmxmoney.com/mocimbalance/en/TSX/moc.html\"\n",
    "\n",
    "tsx_imb_df = get_tsx_moc_imb(backup_url)\n",
    "print(tsx_imb_df.shape)\n",
    "tsx_imb_df.head(3)  "
   ]
  },
  {
   "cell_type": "code",
   "execution_count": null,
   "metadata": {},
   "outputs": [],
   "source": []
  },
  {
   "cell_type": "markdown",
   "metadata": {},
   "source": [
    "### b. Load to database\n",
    "\n",
    "This task takes the transformed data as an input and loads the `imb_df` to a database using `sqlAlchemy`.  There are many ways to accomplish this goal, including some baked into `prefect`. But this is the simplest in terms of writing from a small `df`. "
   ]
  },
  {
   "cell_type": "code",
   "execution_count": null,
   "metadata": {},
   "outputs": [],
   "source": [
    "import sqlalchemy as sa\n",
    "def df_to_db(df, tbl_name, conn_str):\n",
    "\n",
    "    engine = sa.create_engine(conn_str)\n",
    "    \n",
    "    df.to_sql(\n",
    "        name=tbl_name,\n",
    "        con=engine,\n",
    "        if_exists=\"replace\",\n",
    "        index=True,\n",
    "        method=\"multi\",\n",
    "        chunksize=5000\n",
    "        )\n",
    "    \n",
    "    engine.dispose()\n",
    "  \n",
    "    return df.shape"
   ]
  },
  {
   "cell_type": "markdown",
   "metadata": {},
   "source": [
    "Build a connection string using your own credentials for the db"
   ]
  },
  {
   "cell_type": "markdown",
   "metadata": {},
   "source": [
    "Run the function.  A new table with the imb data should now be inserted"
   ]
  },
  {
   "cell_type": "code",
   "execution_count": null,
   "metadata": {},
   "outputs": [],
   "source": [
    "from prefect.client import Secret\n",
    "\n",
    "conn_str = Secret(\"moc_pgdb_conn\").get()"
   ]
  },
  {
   "cell_type": "code",
   "execution_count": null,
   "metadata": {},
   "outputs": [],
   "source": [
    "df_shape = df_to_db(tsx_imb_df, tbl_name=\"moc_tst\", conn_str=conn_str)\n",
    "df_shape"
   ]
  },
  {
   "cell_type": "markdown",
   "metadata": {},
   "source": [
    "## Stage 2 - Configuration and Orchestration for production"
   ]
  },
  {
   "attachments": {
    "41cfd786-48c5-4495-a53c-aeaf37ee28e0.png": {
     "image/png": "[encoded data removed]"
    },
    "85d6901e-5c58-4b4e-801b-3b262153b614.png": {
     "image/png": "[encoded data removed]"
    }
   },
   "cell_type": "markdown",
   "metadata": {
    "jupyter": {
     "source_hidden": true
    }
   },
   "source": [
    "Next we set up the `prefect` config to set:.  \n",
    "- `checkpointing` to True when a `Result handler` is given as a keyword argument. \n",
    "- `cloud.secrets` to True  this way the secrets stored  on prefect cloud to be called\n",
    "    - Secrets can also be used locally with enviroment variables see link\n",
    "\n",
    "Setting up the prefect config for deployment: \n",
    "\n",
    "1. In the terminal go to the prefect directory\n",
    "\n",
    "    cd ~\n",
    "    \n",
    "    cd .prefect\n",
    "2. Check if a config exists\n",
    "\n",
    "    ls\n",
    "\n",
    "    ![image.png](attachment:41cfd786-48c5-4495-a53c-aeaf37ee28e0.png)\n",
    "\n",
    "    If it does not exist:\n",
    "    \n",
    "    touch config.toml\n",
    "\n",
    "3. Open the file.\n",
    "\n",
    "    nano config.toml\n",
    "\n",
    "4. Get a cloud token from prefect\n",
    "\n",
    "5. Add the following configuration.  [prefect config](https://docs.prefect.io/core/concepts/configuration.html)\n",
    "  \n",
    " \n",
    "![image.png](attachment:85d6901e-5c58-4b4e-801b-3b262153b614.png)\n",
    "\n",
    "6. quit nano"
   ]
  },
  {
   "cell_type": "code",
   "execution_count": null,
   "metadata": {},
   "outputs": [],
   "source": []
  },
  {
   "cell_type": "markdown",
   "metadata": {},
   "source": [
    "### Configuring the `get_tsx_moc_imb` to handle retries and saving its result to `s3`.\n",
    "\n",
    "In the code below an @task decorator was added with four configurations to handle some possiple errors.  Furthermore the LocalResultHandler, S3ResultHandler were importedto write the tasks results to a location specified.  If a directory is not specified in the localhandler, the result is located in ~.prefect/results\n",
    "\n",
    "for all the possible keyword configurations see [`Tasks`](https://docs.prefect.io/api/latest/core/task.html#task-2)\n",
    "\n",
    "In addition a state handler was added to handle the state of our `task` .  The state handler handles the definition of the state Success, In progress, pending Failure.  This is where the empty dataframe is handled.  There is no reason to for the `write to db` task to attempt running if there is an empty dataframe. "
   ]
  },
  {
   "cell_type": "code",
   "execution_count": null,
   "metadata": {},
   "outputs": [],
   "source": [
    "import sqlalchemy as sa\n",
    "import pandas as pd\n",
    "import requests\n",
    "\n",
    "from datetime import timedelta\n",
    "\n",
    "from prefect import task\n",
    "from prefect.engine.result_handlers import LocalResultHandler, S3ResultHandler\n",
    "\n",
    "import logging\n",
    "logger = logging.getLogger()\n",
    "logger.setLevel(logging.INFO)\n",
    "\n",
    "s3_handler = S3ResultHandler(bucket='tsx-moc-bcp')  \n",
    "lcl_handler = LocalResultHandler()\n",
    "\n",
    "def my_state_handler(obj, old_state, new_state):\n",
    "    msg = \"\\nCalling my custom state handler on {0}:\\n{1} to {2}\\n\"\n",
    "    print(msg.format(obj, old_state, new_state))\n",
    "    return new_state\n",
    "\n",
    "@task(\n",
    "    max_retries=2, \n",
    "    retry_delay=timedelta(seconds=1),\n",
    "    result_handler=s3_handler)\n",
    "    #state_handlers=[])\n",
    "def get_tsx_moc_imb(url: str):\n",
    "    \"\"\"\n",
    "    Scrape the TSX website Market on close website. Data only available weekdays after 15:40 pm Toronto time\n",
    "    until 12 am.\n",
    "    \n",
    "    Use archived url for testing.       \n",
    "    \"https://web.archive.org/web/20200414202757/https://api.tmxmoney.com/mocimbalance/en/TSX/moc.html\"\n",
    "    \"\"\"\n",
    "    # assert 1/0\n",
    "    \n",
    "    # 1, Get the html content\n",
    "    html = requests.get(url).content\n",
    "    \n",
    "    # 2. Read all the tables\n",
    "    df_list = pd.read_html(html, header=[0], na_values=[''], keep_default_na=False)\n",
    "    \n",
    "    tsx_imb_df = df_list[-1]\n",
    "    \n",
    "    logger.info(f\"MOC download shape {tsx_imb_df.shape}\")\n",
    "\n",
    "    return tsx_imb_df\n",
    "\n",
    "@task\n",
    "def get_yahoo_data(df):\n",
    "    return df\n",
    "\n",
    "\n",
    "@task\n",
    "def df_to_db(df, tbl_name, conn_str):\n",
    "\n",
    "    engine = sa.create_engine(conn_str)\n",
    "    \n",
    "    df.to_sql(\n",
    "        name=tbl_name,\n",
    "        con=engine,\n",
    "        if_exists=\"replace\",\n",
    "        index=True,\n",
    "        method=\"multi\",\n",
    "        chunksize=5000\n",
    "        )\n",
    "    \n",
    "    engine.dispose()\n",
    "  \n",
    "    return df.shape"
   ]
  },
  {
   "cell_type": "code",
   "execution_count": null,
   "metadata": {},
   "outputs": [],
   "source": [
    "from prefect import task, Flow, Parameter\n",
    "\n",
    "@task\n",
    "def run_me_first():\n",
    "    print(\"I'm running first!\")\n",
    "\n",
    "@task\n",
    "def plus_one(x):\n",
    "    return x + 1\n",
    "\n",
    "with Flow('My First Flow') as flow:\n",
    "    \n",
    "    x = Parameter(\"x\", default=5 )\n",
    "    \n",
    "    plus_one = plus_one(x=x, upstream_tasks=[run_me_first])\n",
    "    \n",
    "\n",
    "\n",
    "flow.visualize()"
   ]
  },
  {
   "cell_type": "code",
   "execution_count": null,
   "metadata": {},
   "outputs": [],
   "source": [
    "from prefect.engine.executors import DaskExecutor\n",
    "st = flow.run(executor=DaskExecutor(), \n",
    "         parameters={\"x\": 5}\n",
    "        )"
   ]
  },
  {
   "cell_type": "code",
   "execution_count": null,
   "metadata": {},
   "outputs": [],
   "source": [
    "flow.visualize(flow_state=st)"
   ]
  },
  {
   "cell_type": "markdown",
   "metadata": {},
   "source": [
    "The task above can still be developed and run using the `run` method, however none of the configurations that were added will take hold."
   ]
  },
  {
   "cell_type": "code",
   "execution_count": null,
   "metadata": {},
   "outputs": [],
   "source": [
    "tsx_url = 'https://api.tmxmoney.com/mocimbalance/en/TSX/moc.html'\n",
    "backup_url = \"https://web.archive.org/web/20200414202757/https://api.tmxmoney.com/mocimbalance/en/TSX/moc.html\"\n",
    "\n",
    "tsx_imb_df = get_tsx_moc_imb.run(backup_url)\n",
    "tsx_imb_df"
   ]
  },
  {
   "cell_type": "markdown",
   "metadata": {},
   "source": [
    "As previoulsy discussed configuration and orchestration go together. With `prefect` orchestration takes place in a `Flow`.  A `Flow` has it's own configurations: [Executor](https://docs.prefect.io/api/latest/engine/executors.html#executors), result handler ect.  The code below explicitely defines them so we can change the configurations as we move towards production.\n",
    "\n",
    "Flows can be written in one of three ways: (1) [The functional api](https://docs.prefect.io/core/getting_started/first-steps.html#functional-api) (2) [Imperative api](https://docs.prefect.io/core/getting_started/first-steps.html#imperative-api) (3) Or a combination of both.  \n",
    "\n",
    "This guide uses the functional api."
   ]
  },
  {
   "cell_type": "code",
   "execution_count": null,
   "metadata": {},
   "outputs": [],
   "source": [
    "from prefect import Flow, Parameter\n",
    "\n",
    "with Flow(\"Get-TSX-MOC-Imbalances\") as tsx_imb_fl:\n",
    "    \n",
    "    tsx_url = Parameter(\"tsx_url\", default=\"https://...\")\n",
    "    \n",
    "    tsx_imb_df = get_tsx_moc_imb(tsx_url)\n",
    "    \n",
    "    moc_load_res = df_to_db(tsx_imb_df, \"moc_tst\")\n",
    "    \n",
    "flow.visualize()"
   ]
  },
  {
   "cell_type": "markdown",
   "metadata": {},
   "source": [
    "The flow can be visualized without running it. "
   ]
  },
  {
   "cell_type": "code",
   "execution_count": null,
   "metadata": {},
   "outputs": [],
   "source": [
    "tsx_imb_fl.visualize()"
   ]
  },
  {
   "cell_type": "code",
   "execution_count": null,
   "metadata": {},
   "outputs": [],
   "source": [
    "wi"
   ]
  },
  {
   "cell_type": "markdown",
   "metadata": {},
   "source": [
    "This is useful to understand a Flow's logic and perhaps optimize it."
   ]
  },
  {
   "cell_type": "markdown",
   "metadata": {},
   "source": [
    "### Run the flow"
   ]
  },
  {
   "cell_type": "markdown",
   "metadata": {},
   "source": [
    "Run the flow locally using a Local Executor and visualize how tasks are connected.  \n",
    "As the flow is running you will see messages displaying the status of the `flow`"
   ]
  },
  {
   "cell_type": "code",
   "execution_count": null,
   "metadata": {},
   "outputs": [],
   "source": [
    "from prefect.engine.executors import LocalExecutor\n",
    "\n",
    "#from prefect.environments import RemoteEnvironment\n",
    "#tsx_imb_fl.environment=RemoteEnvironment(executor=\"prefect.engine.executors.LocalExecutor\")\n",
    "\n",
    "fl_state = tsx_imb_fl.run(\n",
    "    parameters=dict(\n",
    "        tsx_url=\"https://api.tmxmoney.com/mocimbalance/en/TSX/moc.html\"\n",
    "    ), \n",
    "    executor=LocalExecutor()\n",
    ")\n",
    "tsx_imb_fl.visualize(flow_state=fl_state)"
   ]
  },
  {
   "cell_type": "markdown",
   "metadata": {},
   "source": [
    "#### Logging\n",
    "\n",
    "The flow began succesfully\n",
    "\n",
    "`[2020-04-30 17:38:57] INFO - prefect.FlowRunner | Beginning Flow run for \"Get TSX MOC imbalances\"`\n",
    "\n",
    "The `tsx_url` Parameter was initialized succefuly\n",
    "\n",
    "`[2020-04-30 17:38:57] INFO - prefect.TaskRunner | Task 'tsx_url': Starting task run...\n",
    "[2020-04-30 17:38:57] INFO - prefect.TaskRunner | Task 'tsx_url': finished task run for task with final state: 'Success'`\n",
    "\n",
    "The `get_tsx_moc_imb` enterd and succesfully finished\n",
    "\n",
    "`[2020-04-30 17:38:57] INFO - prefect.TaskRunner | Task 'tsx_url': Starting task run...\n",
    "[2020-04-30 17:38:57] INFO - prefect.TaskRunner | Task 'tsx_url': finished task run for task with final state: 'Success'`\n",
    "\n",
    "#### Executor\n",
    "\n",
    "`prefect` has three executors built in.\n",
    "\n",
    "    - Local executor. for dev\n",
    "    - LocalDaskExecutor. for dev. No parrallism\n",
    "    - DaskExecutor. for production\n",
    "    "
   ]
  },
  {
   "cell_type": "markdown",
   "metadata": {},
   "source": [
    "The results can be accesses using\n"
   ]
  },
  {
   "cell_type": "code",
   "execution_count": null,
   "metadata": {},
   "outputs": [],
   "source": [
    "print(fl_state.result[tsx_imb_df].result)\n",
    "print(fl_state.result[tsx_imb_df]._result.safe_value)"
   ]
  },
  {
   "cell_type": "markdown",
   "metadata": {},
   "source": [
    "## Deploy to cloud with cloud compute resources\n",
    "\n",
    "### 1. Dockerize the flow\n",
    "\n",
    "There are two options to run the flow using docker, either compose your own base image .i.e. Dockerfile or use a build provided by prefect.  If the flow only has PyPI dependencies: then there is no need to compose a custom Docker file beyond what prefect provides under ther hood. [Dependencies](https://docs.prefect.io/orchestration/recipes/deployment.html#dependencies).\n",
    "    \n",
    "      a. Steps to compose a Dockerfile with a Flow \n",
    "            1. Create a new file called Dockerfile **with no extention**\n",
    "            2. Add the following lines of code\n",
    "    \n",
    "      b. A\n",
    "      \n",
    "      \n",
    "      \n",
    "      \n",
    "      \n",
    "# Paths\n",
    "working_dir_path = os.getcwd()\n",
    "print(f\"Working Dir: {working_dir_path}\")\n",
    "\n",
    "docker_flpth = os.path.join(working_dir_path, \"Dockerfile\")\n",
    "print(f\"Docker flpth: {docker_flpth}\")"
   ]
  },
  {
   "cell_type": "code",
   "execution_count": null,
   "metadata": {},
   "outputs": [],
   "source": [
    "storage = Docker(\n",
    "    registry_url=\"https://417497546600.dkr.ecr.us-east-2.amazonaws.com/get-tsx-moc-ecr\",\n",
    "    python_dependencies=[\"pandas\", \"sqlalchemy\", \"psycopg2\", \"boto3\", \"humps\", \"requests\", \"yfinance\"],\n",
    "    dockerfile=docker_flpth,\n",
    "    image_name=\"etl-moc-img\",\n",
    "    image_tag=\"latest\"\n",
    "    )\n"
   ]
  },
  {
   "cell_type": "code",
   "execution_count": null,
   "metadata": {},
   "outputs": [],
   "source": [
    "# 1. Go to the UI client and create a project name\n",
    "\n",
    "# 2. Register flow\n",
    "## How to update flow? Without that error message?\n",
    "etl_moc.etl_moc_flow.register(project_name=\"market-on-close\")"
   ]
  },
  {
   "cell_type": "code",
   "execution_count": null,
   "metadata": {},
   "outputs": [],
   "source": [
    "from dask_cloudprovider import FargateCluster"
   ]
  },
  {
   "attachments": {
    "image.png": {
     "image/png": "[encoded data removed]"
    }
   },
   "cell_type": "markdown",
   "metadata": {},
   "source": [
    "Delete this log group if it alredy exist\n",
    "\n",
    "![image.png](attachment:image.png)"
   ]
  },
  {
   "cell_type": "code",
   "execution_count": null,
   "metadata": {},
   "outputs": [],
   "source": [
    "cluster = FargateCluster()"
   ]
  },
  {
   "cell_type": "code",
   "execution_count": null,
   "metadata": {},
   "outputs": [],
   "source": [
    "cluster"
   ]
  },
  {
   "cell_type": "code",
   "execution_count": null,
   "metadata": {},
   "outputs": [],
   "source": [
    "cluster.status"
   ]
  },
  {
   "cell_type": "code",
   "execution_count": null,
   "metadata": {},
   "outputs": [],
   "source": [
    "cluster.scheduler.address"
   ]
  },
  {
   "cell_type": "code",
   "execution_count": null,
   "metadata": {},
   "outputs": [],
   "source": [
    "cluster.dashboard_link"
   ]
  },
  {
   "cell_type": "code",
   "execution_count": null,
   "metadata": {},
   "outputs": [],
   "source": [
    "cluster.close()"
   ]
  },
  {
   "cell_type": "code",
   "execution_count": null,
   "metadata": {},
   "outputs": [],
   "source": []
  }
 ],
 "metadata": {
  "celltoolbar": "Slideshow",
  "kernelspec": {
   "display_name": "Python 3",
   "language": "python",
   "name": "python3"
  },
  "language_info": {
   "codemirror_mode": {
    "name": "ipython",
    "version": 3
   },
   "file_extension": ".py",
   "mimetype": "text/x-python",
   "name": "python",
   "nbconvert_exporter": "python",
   "pygments_lexer": "ipython3",
   "version": "3.7.7"
  }
 },
 "nbformat": 4,
 "nbformat_minor": 4
}
